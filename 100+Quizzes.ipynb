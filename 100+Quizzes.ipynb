{
 "cells": [
  {
   "cell_type": "markdown",
   "id": "6e136ced-3c15-4c60-9522-d387d7d0266f",
   "metadata": {},
   "source": [
    "# CHAPTER 1 – MODULES, COMMENTS & PIP"
   ]
  },
  {
   "cell_type": "markdown",
   "id": "e0c31a79-0d3d-45f5-8e82-9bb3f6e29bdb",
   "metadata": {},
   "source": [
    "1. Write a program to print Twinkle twinkle little star poem in python.\n",
    "2. Use REPL and print the table of 5 using it. \n",
    "3. Install an external module and use it to perform an operation of your interest. \n",
    "4. Write a python program to print the contents of a directory using the os module.\n",
    "Search online for the function which does that. \n",
    "5. Label the program written in problem 4 with comments"
   ]
  },
  {
   "cell_type": "markdown",
   "id": "d7b6bd3a-afd0-4017-955b-24ffac8a4c4e",
   "metadata": {},
   "source": [
    "### Quiz 1 \n",
    "Write a program to print Twinkle twinkle little star poem in python."
   ]
  },
  {
   "cell_type": "code",
   "execution_count": 1,
   "id": "6e02eb3a-b940-4359-8a19-de6face6d45d",
   "metadata": {},
   "outputs": [
    {
     "name": "stdout",
     "output_type": "stream",
     "text": [
      "Twinkle, twinkle, little star,\n",
      "    How I wonder what you are!\n",
      "        Up above the world so high,\n",
      "        Like a diamond in the sky.\n",
      "Twinkle, twinkle, little star,\n",
      "    How I wonder what you are!\n"
     ]
    }
   ],
   "source": [
    "# Twinkle Twinkle Little Star poem\n",
    "\n",
    "print(\"Twinkle, twinkle, little star,\")\n",
    "print(\"    How I wonder what you are!\")\n",
    "print(\"        Up above the world so high,\")\n",
    "print(\"        Like a diamond in the sky.\")\n",
    "print(\"Twinkle, twinkle, little star,\")\n",
    "print(\"    How I wonder what you are!\")"
   ]
  },
  {
   "cell_type": "markdown",
   "id": "5d71b410-3d53-4d57-8e0e-704378cfdb4a",
   "metadata": {},
   "source": [
    "### Quiz 2\n",
    "Use REPL and print the table of 5 using it."
   ]
  },
  {
   "cell_type": "code",
   "execution_count": 3,
   "id": "21775b62-495b-4fbc-9bf0-01b14e4cf12d",
   "metadata": {},
   "outputs": [
    {
     "name": "stdout",
     "output_type": "stream",
     "text": [
      "5 x 1 = 5\n",
      "5 x 2 = 10\n",
      "5 x 3 = 15\n",
      "5 x 4 = 20\n",
      "5 x 5 = 25\n",
      "5 x 6 = 30\n",
      "5 x 7 = 35\n",
      "5 x 8 = 40\n",
      "5 x 9 = 45\n",
      "5 x 10 = 50\n"
     ]
    }
   ],
   "source": [
    ">>> for i in range(1, 11):\n",
    "...     print(f\"5 x {i} = {5 * i}\")\n",
    "...\n"
   ]
  },
  {
   "cell_type": "markdown",
   "id": "7d472926-8706-4c6b-99c1-ab8bbbdb55e5",
   "metadata": {},
   "source": [
    "### Quiz 3\n",
    "Install an external module and use it to perform an operation of your interest."
   ]
  },
  {
   "cell_type": "code",
   "execution_count": 128,
   "id": "c1756ab7-e856-4a47-b0d0-76194185ed4b",
   "metadata": {},
   "outputs": [
    {
     "ename": "ModuleNotFoundError",
     "evalue": "No module named 'date_time'",
     "output_type": "error",
     "traceback": [
      "\u001b[1;31m---------------------------------------------------------------------------\u001b[0m",
      "\u001b[1;31mModuleNotFoundError\u001b[0m                       Traceback (most recent call last)",
      "Cell \u001b[1;32mIn[128], line 5\u001b[0m\n\u001b[0;32m      1\u001b[0m \u001b[38;5;66;03m#pip install pyjokes\u001b[39;00m\n\u001b[0;32m      2\u001b[0m \n\u001b[0;32m      3\u001b[0m \u001b[38;5;66;03m#import pyjokes\u001b[39;00m\n\u001b[0;32m      4\u001b[0m \u001b[38;5;66;03m#print(pyjokes.get_joke())\u001b[39;00m\n\u001b[1;32m----> 5\u001b[0m \u001b[38;5;28;01mimport\u001b[39;00m \u001b[38;5;21;01mdate_time\u001b[39;00m\n",
      "\u001b[1;31mModuleNotFoundError\u001b[0m: No module named 'date_time'"
     ]
    }
   ],
   "source": [
    "pip install pyjokes\n",
    "\n",
    "import pyjokes\n",
    "print(pyjokes.get_joke())"
   ]
  },
  {
   "cell_type": "markdown",
   "id": "7241b29d-c0fb-4aa2-b679-5aa7aac70671",
   "metadata": {},
   "source": [
    "### Quiz 4\n",
    "Write a python program to print the contents of a directory using the os module. Search online for the function which does that."
   ]
  },
  {
   "cell_type": "code",
   "execution_count": 112,
   "id": "f2508da1-a60b-42fa-9309-90fb9c8ec22c",
   "metadata": {},
   "outputs": [
    {
     "name": "stdout",
     "output_type": "stream",
     "text": [
      "Contents of the directory:\n",
      "app.py\n",
      "known_faces_dir\n"
     ]
    }
   ],
   "source": [
    "import os\n",
    "\n",
    "# Specify the path (use \".\" for current directory)\n",
    "path = (r\"D:\\Users\\Ali raza\\Desktop\\fcace dtection project\")\n",
    "\n",
    "# Get and print the contents of the directory\n",
    "contents = os.listdir(path)\n",
    "\n",
    "print(\"Contents of the directory:\")\n",
    "for item in contents:\n",
    "    print(item)"
   ]
  },
  {
   "cell_type": "markdown",
   "id": "dcbb29d1-7095-45ce-95df-f9f635260904",
   "metadata": {},
   "source": [
    "### Quiz 5\n",
    "Label the program written in problem 4 with comments"
   ]
  },
  {
   "cell_type": "code",
   "execution_count": 111,
   "id": "c9535bfa-c99d-4d1d-a408-b8ff2e4a25a6",
   "metadata": {},
   "outputs": [
    {
     "name": "stdout",
     "output_type": "stream",
     "text": [
      "Contents of the directory:\n",
      "app.py\n",
      "known_faces_dir\n"
     ]
    }
   ],
   "source": [
    "import os  # Importing the os module to interact with the operating system\n",
    "\n",
    "# Define the path of the directory\n",
    "# \".\" means the current working directory\n",
    "path =( r\"D:\\Users\\Ali raza\\Desktop\\fcace dtection project\")\n",
    "\n",
    "# Get the list of files and directories in the specified path\n",
    "contents = os.listdir(path)\n",
    "\n",
    "# Print a heading\n",
    "print(\"Contents of the directory:\")\n",
    "\n",
    "# Loop through the list and print each item\n",
    "for item in contents:\n",
    "    print(item)\n"
   ]
  },
  {
   "cell_type": "markdown",
   "id": "2a658a84-46ba-41b8-8675-a649807b7bce",
   "metadata": {},
   "source": [
    "# CHAPTER 2 – VARIABLES AND DATATYPE\n",
    "1. Write a python program to add two numbers.\n",
    "2. Write a python program to find remainder when a number is divided by z.\n",
    "3. Check the type of variable assigned using input () function.\n",
    "4. Use comparison operator to find out whether ‘a’ given variable a is greater than \n",
    "‘b’ or not. Take a = 34 and b = 80\n",
    "5. Write a python program to find an average of two numbers entered by the user.\n",
    "6. Write a python program to calculate the square of a number entered by the user"
   ]
  },
  {
   "cell_type": "markdown",
   "id": "b7e95d95-c5a9-48dd-9295-2e88bae984c1",
   "metadata": {},
   "source": [
    "### Quiz 1.\n",
    "Write a python program to add two numbers."
   ]
  },
  {
   "cell_type": "code",
   "execution_count": 13,
   "id": "e45d3178-b79c-4750-bcad-7b17615f39b2",
   "metadata": {},
   "outputs": [
    {
     "name": "stdin",
     "output_type": "stream",
     "text": [
      "Enter first number:  14\n",
      "Enter second number:  14\n"
     ]
    },
    {
     "name": "stdout",
     "output_type": "stream",
     "text": [
      "The sum is: 28.0\n"
     ]
    }
   ],
   "source": [
    "# Input from the user\n",
    "num1 = float(input(\"Enter first number: \"))\n",
    "num2 = float(input(\"Enter second number: \"))\n",
    "\n",
    "# Calculate the sum\n",
    "sum = num1 + num2\n",
    "\n",
    "# Display the result\n",
    "print(\"The sum is:\", sum)"
   ]
  },
  {
   "cell_type": "markdown",
   "id": "4cf247a8-3cc2-4090-97c8-63e8824a7550",
   "metadata": {},
   "source": [
    "### Quiz 2\n",
    "Write a python program to find remainder when a number is divided by z."
   ]
  },
  {
   "cell_type": "code",
   "execution_count": 14,
   "id": "4af21735-1be0-43e8-ba6d-a70485cb6fa0",
   "metadata": {},
   "outputs": [
    {
     "name": "stdin",
     "output_type": "stream",
     "text": [
      "Enter the number:  45\n",
      "Enter the divisor (z):  4\n"
     ]
    },
    {
     "name": "stdout",
     "output_type": "stream",
     "text": [
      "Remainder is: 1\n"
     ]
    }
   ],
   "source": [
    "# Input from the user\n",
    "number = int(input(\"Enter the number: \"))\n",
    "z = int(input(\"Enter the divisor (z): \"))\n",
    "\n",
    "# Calculate remainder\n",
    "remainder = number % z\n",
    "\n",
    "# Display the result\n",
    "print(\"Remainder is:\", remainder)\n"
   ]
  },
  {
   "cell_type": "markdown",
   "id": "c54f4540-ad65-4f5b-931c-fcf376e9e5e4",
   "metadata": {},
   "source": [
    "### Quiz 3\n",
    "Check the type of variable assigned using input () function."
   ]
  },
  {
   "cell_type": "code",
   "execution_count": 15,
   "id": "6e6b9ec8-57e0-4f8e-ad81-bbad3503a8fc",
   "metadata": {},
   "outputs": [
    {
     "name": "stdin",
     "output_type": "stream",
     "text": [
      "Enter something:  67\n"
     ]
    },
    {
     "name": "stdout",
     "output_type": "stream",
     "text": [
      "You entered: 67\n",
      "Type of the variable is: <class 'str'>\n"
     ]
    }
   ],
   "source": [
    "# Take input from the user\n",
    "value = input(\"Enter something: \")\n",
    "\n",
    "# Check and print the type of the variable\n",
    "print(\"You entered:\", value)\n",
    "print(\"Type of the variable is:\", type(value))\n"
   ]
  },
  {
   "cell_type": "markdown",
   "id": "09619396-4e24-405b-b4a1-d3f91a51a4ce",
   "metadata": {},
   "source": [
    "### Quiz 4\n",
    "Use comparison operator to find out whether ‘a’ given variable a is greater than ‘b’ or not. Take a = 34 and b = 80"
   ]
  },
  {
   "cell_type": "code",
   "execution_count": 16,
   "id": "61bf88c0-5545-4770-b1dd-19fa651dab62",
   "metadata": {},
   "outputs": [
    {
     "name": "stdout",
     "output_type": "stream",
     "text": [
      "Is 'a' greater than 'b'? False\n"
     ]
    }
   ],
   "source": [
    "# Assign values\n",
    "a = 34\n",
    "b = 80\n",
    "\n",
    "# Use comparison operator to check if a > b\n",
    "is_greater = a > b\n",
    "\n",
    "# Print the result\n",
    "print(\"Is 'a' greater than 'b'?\", is_greater)\n"
   ]
  },
  {
   "cell_type": "markdown",
   "id": "2899a27c-e31c-49a9-b5c4-3ebe3f20c5af",
   "metadata": {},
   "source": [
    "### Quiz 5\n",
    "Write a python program to find an average of two numbers entered by the user."
   ]
  },
  {
   "cell_type": "code",
   "execution_count": 17,
   "id": "2f8c3fe7-ad02-40ee-a811-af0b7228d048",
   "metadata": {},
   "outputs": [
    {
     "name": "stdin",
     "output_type": "stream",
     "text": [
      "Enter first number:  36\n",
      "Enter second number:  34\n"
     ]
    },
    {
     "name": "stdout",
     "output_type": "stream",
     "text": [
      "The average is: 35.0\n"
     ]
    }
   ],
   "source": [
    "# Take input from the user and convert to float\n",
    "num1 = float(input(\"Enter first number: \"))\n",
    "num2 = float(input(\"Enter second number: \"))\n",
    "\n",
    "# Calculate average\n",
    "average = (num1 + num2) / 2\n",
    "\n",
    "# Display the result\n",
    "print(\"The average is:\", average)\n"
   ]
  },
  {
   "cell_type": "markdown",
   "id": "97921a2a-381a-4264-8a5a-19cc87b3919a",
   "metadata": {},
   "source": [
    "### Quiz 6\n",
    "Write a python program to calculate the square of a number entered by the user"
   ]
  },
  {
   "cell_type": "code",
   "execution_count": 19,
   "id": "addd1093-08c1-4f0f-a3f9-36716ffa08ae",
   "metadata": {},
   "outputs": [
    {
     "name": "stdin",
     "output_type": "stream",
     "text": [
      "Enter a number:  4\n"
     ]
    },
    {
     "name": "stdout",
     "output_type": "stream",
     "text": [
      "The square of the number is: 16.0\n"
     ]
    }
   ],
   "source": [
    "# Take input from the user and convert to float\n",
    "number = float(input(\"Enter a number: \"))\n",
    "\n",
    "# Calculate the square\n",
    "square = number ** 2\n",
    "\n",
    "# Display the result\n",
    "print(\"The square of the number is:\", square)\n"
   ]
  },
  {
   "cell_type": "markdown",
   "id": "daeaf8b7-72c0-4c0c-b1e2-4de958a490f9",
   "metadata": {},
   "source": [
    "# CHAPTER 3 – STRINGS"
   ]
  },
  {
   "attachments": {},
   "cell_type": "markdown",
   "id": "35020f16-feda-4430-a70f-593774a2ddbc",
   "metadata": {},
   "source": [
    "1. Write a python program to display a user entered name followed by Good \n",
    "Afternoon using input () function.\n",
    "2. Write a program to fill in a letter template given below with name and date.\n",
    "\n",
    "'''Dear <|Name|>,\n",
    "You are selected!\n",
    "<|Date|> '''\n",
    "\n",
    "3. Write a program to detect double space in a string.\n",
    "4. Replace the double space from problem 3 with single spaces.\n",
    "5. Write a program to format the following letter using escape sequence \n",
    "characters.\n",
    "letter = \"Dear Harry, this python course is nice. Thanks!\""
   ]
  },
  {
   "cell_type": "markdown",
   "id": "8d44f31a-a28a-4487-a1f9-4bb150019db4",
   "metadata": {},
   "source": [
    "###  Quiz 1\n",
    "Write a python program to display a user entered name followed by Good Afternoon using input () function."
   ]
  },
  {
   "cell_type": "code",
   "execution_count": 20,
   "id": "0421256a-59f9-4916-b989-9449df54d15a",
   "metadata": {},
   "outputs": [
    {
     "name": "stdin",
     "output_type": "stream",
     "text": [
      "Enter your name:  Ali Raza\n"
     ]
    },
    {
     "name": "stdout",
     "output_type": "stream",
     "text": [
      "Good Afternoon Ali Raza\n"
     ]
    }
   ],
   "source": [
    "# Take user's name as input\n",
    "name = input(\"Enter your name: \")\n",
    "\n",
    "# Display greeting message\n",
    "print(\"Good Afternoon\", name)\n"
   ]
  },
  {
   "cell_type": "markdown",
   "id": "aeeb6d30-dc2e-4af6-b5b7-5d6bf76dbffa",
   "metadata": {},
   "source": [
    "### Quiz 2 \n",
    "Write a program to fill in a letter template given below with name and date."
   ]
  },
  {
   "cell_type": "code",
   "execution_count": 115,
   "id": "a393999f-4397-4dd9-aab3-e8b9adec3725",
   "metadata": {},
   "outputs": [
    {
     "name": "stdin",
     "output_type": "stream",
     "text": [
      "Enter your name:  Ali Raza\n",
      "Enter the date (e.g., 23/07/2025):  23/07/2025\n"
     ]
    },
    {
     "name": "stdout",
     "output_type": "stream",
     "text": [
      "\n",
      "Dear Ali Raza,\n",
      "You are selected!\n",
      "Date: 23/07/2025\n"
     ]
    }
   ],
   "source": [
    "# Take name and date input from the user\n",
    "name = input(\"Enter your name: \")\n",
    "date = input(\"Enter the date (e.g., 23/07/2025): \")\n",
    "\n",
    "# Define the letter template\n",
    "letter = '''Dear <|NAME|>,\n",
    "You are selected!\n",
    "Date: <|DATE|>'''\n",
    "\n",
    "# Replace placeholders with actual values\n",
    "letter = letter.replace(\"<|NAME|>\", name)\n",
    "letter = letter.replace(\"<|DATE|>\", date)\n",
    "\n",
    "# Print the final letter\n",
    "print(\"\\n\" + letter)\n"
   ]
  },
  {
   "cell_type": "markdown",
   "id": "8a1fde80-092a-4251-9bf9-bd04015b5d17",
   "metadata": {},
   "source": [
    "### Quiz 3\n",
    "Write a program to detect double space in a string."
   ]
  },
  {
   "cell_type": "code",
   "execution_count": 118,
   "id": "e76d4419-61f8-4e8d-b8f6-6f249a2b12e5",
   "metadata": {},
   "outputs": [
    {
     "name": "stdin",
     "output_type": "stream",
     "text": [
      "Enter a string:  How are  you\n"
     ]
    },
    {
     "name": "stdout",
     "output_type": "stream",
     "text": [
      "Double space detected in the string.\n"
     ]
    }
   ],
   "source": [
    "# Take input string from the user\n",
    "text = input(\"Enter a string: \")\n",
    "\n",
    "# Check if double space exists\n",
    "if \"  \" in text:\n",
    "    print(\"Double space detected in the string.\")\n",
    "else:\n",
    "    print(\"No double space found.\")\n"
   ]
  },
  {
   "cell_type": "markdown",
   "id": "9f937c87-0a10-459a-8986-30a2627e23cb",
   "metadata": {},
   "source": [
    "### Quiz 4\n",
    "Replace the double space from problem 3 with single spaces."
   ]
  },
  {
   "cell_type": "code",
   "execution_count": 117,
   "id": "c1004cb3-e4e7-4f22-b373-11ef0d062860",
   "metadata": {},
   "outputs": [
    {
     "name": "stdin",
     "output_type": "stream",
     "text": [
      "Enter a string with possible double spaces:  I am  Ali Raza\n"
     ]
    },
    {
     "name": "stdout",
     "output_type": "stream",
     "text": [
      "Corrected string: I am Ali Raza\n"
     ]
    }
   ],
   "source": [
    "# Take input string from the user\n",
    "text = input(\"Enter a string with possible double spaces: \")\n",
    "\n",
    "# Replace all double spaces with single spaces\n",
    "corrected_text = text.replace(\"  \", \" \")\n",
    "\n",
    "# Print the updated string\n",
    "print(\"Corrected string:\", corrected_text)\n"
   ]
  },
  {
   "cell_type": "markdown",
   "id": "40a44e67-7693-425d-8507-9e48e27b978c",
   "metadata": {},
   "source": [
    "### Quiz 5\n",
    "Write a program to format the following letter using escape sequence characters. letter = \"Dear Harry, this python course is nice. Thanks!\""
   ]
  },
  {
   "cell_type": "code",
   "execution_count": 24,
   "id": "5c54a164-a18a-46c1-a67d-3933480d4298",
   "metadata": {},
   "outputs": [
    {
     "name": "stdout",
     "output_type": "stream",
     "text": [
      "Dear Harry,\n",
      "\tThis Python course is nice.\n",
      "Thanks!\n"
     ]
    }
   ],
   "source": [
    "# Original letter\n",
    "letter = \"Dear Harry, this python course is nice. Thanks!\"\n",
    "\n",
    "# Formatted letter using escape sequences\n",
    "formatted_letter = \"Dear Harry,\\n\\tThis Python course is nice.\\nThanks!\"\n",
    "\n",
    "# Print the formatted letter\n",
    "print(formatted_letter)\n"
   ]
  },
  {
   "cell_type": "markdown",
   "id": "12940434-7633-4ac1-a4bb-4c481f0498ea",
   "metadata": {},
   "source": [
    "# CHAPTER 4 – LISTS AND TUPLES"
   ]
  },
  {
   "cell_type": "markdown",
   "id": "c665a88c-6d85-408a-9b26-702e8c603302",
   "metadata": {},
   "source": [
    "1. Write a program to store seven fruits in a list entered by the user.\n",
    "2. Write a program to accept marks of 6 students and display them in a sorted \n",
    "manner.\n",
    "3. Check that a tuple type cannot be changed in python.\n",
    "4. Write a program to sum a list with 4 numbers.\n",
    "5. Write a program to count the number of zeros in the following tuple:\n",
    "a = (7, 0, 8, 0, 0, 9)"
   ]
  },
  {
   "cell_type": "markdown",
   "id": "bf9efbf7-cf3c-427c-87fb-8229252e3744",
   "metadata": {},
   "source": [
    "### Quiz 1\n",
    "Write a program to store seven fruits in a list entered by the user."
   ]
  },
  {
   "cell_type": "code",
   "execution_count": 27,
   "id": "50c0d0c5-7d64-4b4b-8bc5-6b07097f0926",
   "metadata": {},
   "outputs": [
    {
     "name": "stdin",
     "output_type": "stream",
     "text": [
      "Enter fruit 1:  banana\n",
      "Enter fruit 2:  apple\n",
      "Enter fruit 3:  mango\n",
      "Enter fruit 4:  watermelon\n",
      "Enter fruit 5:  strawberry\n",
      "Enter fruit 6:  grapes\n",
      "Enter fruit 7:  orange\n"
     ]
    },
    {
     "name": "stdout",
     "output_type": "stream",
     "text": [
      "List of fruits: ['banana', 'apple', 'mango', 'watermelon', 'strawberry', 'grapes', 'orange']\n"
     ]
    }
   ],
   "source": [
    "# Create an empty list to store fruits\n",
    "fruits = []\n",
    "\n",
    "# Take input for 7 fruits from the user\n",
    "for i in range(1, 8):\n",
    "    fruit = input(f\"Enter fruit {i}: \")\n",
    "    fruits.append(fruit)\n",
    "\n",
    "# Print the list of fruits\n",
    "print(\"List of fruits:\", fruits)\n"
   ]
  },
  {
   "cell_type": "markdown",
   "id": "03fd23a4-0b74-4dd5-abcc-836b2e931adf",
   "metadata": {},
   "source": [
    "### Quiz 2\n",
    "Write a program to accept marks of 6 students and display them in a sorted manner."
   ]
  },
  {
   "cell_type": "code",
   "execution_count": 28,
   "id": "463bc946-e0f0-4b12-b5f6-8afabb861671",
   "metadata": {},
   "outputs": [
    {
     "name": "stdin",
     "output_type": "stream",
     "text": [
      "Enter marks for student 1:  45\n",
      "Enter marks for student 2:  50\n",
      "Enter marks for student 3:  44\n",
      "Enter marks for student 4:  56\n",
      "Enter marks for student 5:  49\n",
      "Enter marks for student 6:  40\n"
     ]
    },
    {
     "name": "stdout",
     "output_type": "stream",
     "text": [
      "Sorted marks: [40, 44, 45, 49, 50, 56]\n"
     ]
    }
   ],
   "source": [
    "# Create an empty list to store marks\n",
    "marks = []\n",
    "\n",
    "# Input marks for 6 students\n",
    "for i in range(1, 7):\n",
    "    mark = int(input(f\"Enter marks for student {i}: \"))\n",
    "    marks.append(mark)\n",
    "\n",
    "# Sort the marks in ascending order\n",
    "marks.sort()\n",
    "\n",
    "# Display the sorted marks\n",
    "print(\"Sorted marks:\", marks)"
   ]
  },
  {
   "cell_type": "markdown",
   "id": "2c54e2ae-94c0-4424-8ccf-ec6bb39f1e34",
   "metadata": {},
   "source": [
    "### Quiz 3\n",
    "Check that a tuple type cannot be changed in python."
   ]
  },
  {
   "cell_type": "code",
   "execution_count": 119,
   "id": "52e03d43-5d62-4c2b-9947-7041bc784841",
   "metadata": {},
   "outputs": [
    {
     "ename": "TypeError",
     "evalue": "'tuple' object does not support item assignment",
     "output_type": "error",
     "traceback": [
      "\u001b[1;31m---------------------------------------------------------------------------\u001b[0m",
      "\u001b[1;31mTypeError\u001b[0m                                 Traceback (most recent call last)",
      "Cell \u001b[1;32mIn[119], line 5\u001b[0m\n\u001b[0;32m      2\u001b[0m my_tuple \u001b[38;5;241m=\u001b[39m (\u001b[38;5;241m10\u001b[39m, \u001b[38;5;241m20\u001b[39m, \u001b[38;5;241m30\u001b[39m)\n\u001b[0;32m      4\u001b[0m \u001b[38;5;66;03m# Try to change an element (this will cause an error)\u001b[39;00m\n\u001b[1;32m----> 5\u001b[0m \u001b[43mmy_tuple\u001b[49m\u001b[43m[\u001b[49m\u001b[38;5;241;43m0\u001b[39;49m\u001b[43m]\u001b[49m \u001b[38;5;241m=\u001b[39m \u001b[38;5;241m100\u001b[39m  \u001b[38;5;66;03m# This line will raise a TypeError\u001b[39;00m\n",
      "\u001b[1;31mTypeError\u001b[0m: 'tuple' object does not support item assignment"
     ]
    }
   ],
   "source": [
    "# Create a tuple\n",
    "my_tuple = (10, 20, 30)\n",
    "\n",
    "# Try to change an element (this will cause an error)\n",
    "my_tuple[0] = 100  # This line will raise a TypeError\n"
   ]
  },
  {
   "cell_type": "markdown",
   "id": "b39c19e8-6c12-46a2-a60a-fc2f10d82417",
   "metadata": {},
   "source": [
    "### Quiz 4\n",
    "Write a program to sum a list with 4 numbers."
   ]
  },
  {
   "cell_type": "code",
   "execution_count": 124,
   "id": "bfbef0cd-47b7-4ad8-b26f-099feb23ae4d",
   "metadata": {},
   "outputs": [
    {
     "name": "stdout",
     "output_type": "stream",
     "text": [
      "36\n"
     ]
    }
   ],
   "source": [
    "l= [1, 5, 10, 20]\n",
    "print(sum(l)) # sum() is the built-in function"
   ]
  },
  {
   "cell_type": "markdown",
   "id": "da3f9494-1c0e-4082-9655-991868ee6f17",
   "metadata": {},
   "source": [
    "### Quiz 5\n",
    "Write a program to count the number of zeros in the following tuple: a = (7, 0, 8, 0, 0, 9)"
   ]
  },
  {
   "cell_type": "code",
   "execution_count": 33,
   "id": "7d50735f-6435-4b8d-b1c5-33c28e7c90c8",
   "metadata": {},
   "outputs": [
    {
     "name": "stdout",
     "output_type": "stream",
     "text": [
      "Number of zeros in the tuple: 3\n"
     ]
    }
   ],
   "source": [
    "# Define the tuple\n",
    "a = (7, 0, 8, 0, 0, 9)\n",
    " \n",
    "# Count the number of zeros\n",
    "zero_count = a.count(0)\n",
    "\n",
    "# Print the result\n",
    "print(\"Number of zeros in the tuple:\", zero_count)"
   ]
  },
  {
   "cell_type": "markdown",
   "id": "b3ac98cd-afbf-4814-9821-0b97982a948c",
   "metadata": {},
   "source": [
    "# CHAPTER 5 – DICTIONARY & SETS\n",
    "1. Write a program to create a dictionary of Hindi words with values as their English\n",
    "translation. Provide user with an option to look it up!\n",
    "2. Write a program to input eight numbers from the user and display all the unique \n",
    "numbers (once).\n",
    "3. Can we have a set with 18 (int) and '18' (str) as a value in it?\n",
    "4. What will be the length of following set s:\n",
    "s = set()\n",
    "s.add(20)\n",
    "s.add(20.0)\n",
    "s.add('20') # length of s after these operations?\n",
    "5. s = {}\n",
    "What is the type of 's'?\n",
    "6. Create an empty dictionary. Allow 4 friends to enter their favorite language as \n",
    "value and use key as their names. Assume that the names are unique.\n",
    "7. If the names of 2 friends are same; what will happen to the program in problem \n",
    "6?\n",
    "8. If languages of two friends are same; what will happen to the program in problem \n",
    "6?\n",
    "9. Can you change the values inside a list which is contained in set S"
   ]
  },
  {
   "cell_type": "markdown",
   "id": "f5f4e092-d91f-4a82-83eb-57a2596eb88a",
   "metadata": {},
   "source": [
    "### Quiz 1\n",
    "Write a program to create a dictionary of Urdu words with values as their English translation. Provide user with an option to look it up!"
   ]
  },
  {
   "cell_type": "code",
   "execution_count": 129,
   "id": "3cce1e0c-6eb7-4451-b35b-2c06f4d6e86c",
   "metadata": {},
   "outputs": [
    {
     "name": "stdin",
     "output_type": "stream",
     "text": [
      "Enter a Urdu word to look up its English meaning:  kitab\n"
     ]
    },
    {
     "name": "stdout",
     "output_type": "stream",
     "text": [
      "The English meaning of 'kitab' is: book\n"
     ]
    }
   ],
   "source": [
    "# Create a dictionary of Urdu words and their English meanings\n",
    "Urdu_dict = {\n",
    "    \"pani\": \"water\",\n",
    "    \"khana\": \"food\",\n",
    "    \"ghar\": \"home\",\n",
    "    \"kitab\": \"book\",\n",
    "    \"dost\": \"friend\"\n",
    "}\n",
    "\n",
    "# Ask the user to enter a Hindi word\n",
    "word = input(\"Enter a Urdu word to look up its English meaning: \")\n",
    "\n",
    "# Look up and display the meaning\n",
    "meaning = Urdu_dict.get(word)\n",
    "\n",
    "if meaning:\n",
    "    print(f\"The English meaning of '{word}' is: {meaning}\")\n",
    "else:\n",
    "    print(\"Sorry, this word is not in the dictionary.\")\n"
   ]
  },
  {
   "cell_type": "markdown",
   "id": "24d91b89-b3ff-4b45-b997-70f01a06fff0",
   "metadata": {},
   "source": [
    "### Quiz 2\n",
    "Write a program to input eight numbers from the user and display all the unique numbers (once)."
   ]
  },
  {
   "cell_type": "code",
   "execution_count": 37,
   "id": "4f1195ac-1061-4b2e-ae37-dbf2ed9a9015",
   "metadata": {},
   "outputs": [
    {
     "name": "stdin",
     "output_type": "stream",
     "text": [
      "Enter number 1:  3\n",
      "Enter number 2:  4\n",
      "Enter number 3:  4\n",
      "Enter number 4:  56\n",
      "Enter number 5:  4\n",
      "Enter number 6:  7\n",
      "Enter number 7:  8\n",
      "Enter number 8:  8\n"
     ]
    },
    {
     "name": "stdout",
     "output_type": "stream",
     "text": [
      "Unique numbers are: {3, 4, 7, 8, 56}\n"
     ]
    }
   ],
   "source": [
    "# Create an empty list to store the numbers\n",
    "numbers = []\n",
    "\n",
    "# Input 8 numbers from the user\n",
    "for i in range(8):\n",
    "    num = int(input(f\"Enter number {i+1}: \"))\n",
    "    numbers.append(num)\n",
    "\n",
    "# Convert the list to a set to get unique values\n",
    "unique_numbers = set(numbers)\n",
    "\n",
    "# Display the unique numbers\n",
    "print(\"Unique numbers are:\", unique_numbers)\n"
   ]
  },
  {
   "cell_type": "markdown",
   "id": "38403b63-7007-48db-9754-3d0b257f70aa",
   "metadata": {},
   "source": [
    "### Quiz 3\n",
    "Can we have a set with 18 (int) and '18' (str) as a value in it?"
   ]
  },
  {
   "cell_type": "code",
   "execution_count": 38,
   "id": "b63bf9fc-ac90-4988-a6be-6a673289933a",
   "metadata": {},
   "outputs": [
    {
     "name": "stdout",
     "output_type": "stream",
     "text": [
      "{18, '18'}\n"
     ]
    }
   ],
   "source": [
    "my_set = {18, '18'}\n",
    "\n",
    "print(my_set)\n"
   ]
  },
  {
   "cell_type": "markdown",
   "id": "39af1631-9909-4660-925a-fbfead7011a1",
   "metadata": {},
   "source": [
    "### Quiz 4\n",
    "What will be the length of following set s: s = set() s.add(20) s.add(20.0) s.add('20') # length of s after these operations?"
   ]
  },
  {
   "cell_type": "code",
   "execution_count": 40,
   "id": "44a09c92-db01-442a-b5fc-81c10af86776",
   "metadata": {},
   "outputs": [],
   "source": [
    "s = set()           # Create an empty set\n",
    "s.add(20)           # Add integer 20\n",
    "s.add(20.0)         # Add float 20.0\n",
    "s.add('20')         # Add string '20'"
   ]
  },
  {
   "cell_type": "markdown",
   "id": "24cb1f92-62d5-443d-9177-522e76d40120",
   "metadata": {},
   "source": [
    "### Quiz 5\n",
    "s = {} What is the type of 's'?"
   ]
  },
  {
   "cell_type": "code",
   "execution_count": 41,
   "id": "26565c30-288e-4883-b16d-7dc477e9586d",
   "metadata": {},
   "outputs": [
    {
     "name": "stdout",
     "output_type": "stream",
     "text": [
      "<class 'dict'>\n"
     ]
    }
   ],
   "source": [
    "s={}\n",
    "print(type(s))  # Output: <class 'dict'>"
   ]
  },
  {
   "cell_type": "markdown",
   "id": "5cb6c7cf-0d98-45f8-80ea-a1945ef5ccf2",
   "metadata": {},
   "source": [
    "### Quiz 6\n",
    "Create an empty dictionary. Allow 4 friends to enter their favorite language as value and use key as their names. Assume that the names are unique."
   ]
  },
  {
   "cell_type": "code",
   "execution_count": 42,
   "id": "ff1eb2f6-0cad-4006-8f68-38701a5d53d2",
   "metadata": {},
   "outputs": [
    {
     "name": "stdin",
     "output_type": "stream",
     "text": [
      "Enter your name:  Ali Raza\n",
      "Enter your favorite language:  python\n",
      "Enter your name:  zohaib\n",
      "Enter your favorite language:  c\n",
      "Enter your name:  hassan\n",
      "Enter your favorite language:  java\n",
      "Enter your name:  umar \n",
      "Enter your favorite language:  php\n"
     ]
    },
    {
     "name": "stdout",
     "output_type": "stream",
     "text": [
      "\n",
      "Favorite Languages Dictionary:\n",
      "{'Ali Raza': 'python', 'zohaib': 'c', 'hassan': 'java', 'umar ': 'php'}\n"
     ]
    }
   ],
   "source": [
    "# Create an empty dictionary\n",
    "fav_languages = {}\n",
    "\n",
    "# Input favorite languages from 4 friends\n",
    "name1 = input(\"Enter your name: \")\n",
    "lang1 = input(\"Enter your favorite language: \")\n",
    "fav_languages[name1] = lang1\n",
    "\n",
    "name2 = input(\"Enter your name: \")\n",
    "lang2 = input(\"Enter your favorite language: \")\n",
    "fav_languages[name2] = lang2\n",
    "\n",
    "name3 = input(\"Enter your name: \")\n",
    "lang3 = input(\"Enter your favorite language: \")\n",
    "fav_languages[name3] = lang3\n",
    "\n",
    "name4 = input(\"Enter your name: \")\n",
    "lang4 = input(\"Enter your favorite language: \")\n",
    "fav_languages[name4] = lang4\n",
    "\n",
    "# Display the dictionary\n",
    "print(\"\\nFavorite Languages Dictionary:\")\n",
    "print(fav_languages)\n"
   ]
  },
  {
   "cell_type": "markdown",
   "id": "1791a23a-805d-42bc-956d-d1e24ee15dfd",
   "metadata": {},
   "source": [
    "### Quiz 7\n",
    "If the names of 2 friends are same; what will happen to the program in problem 6?"
   ]
  },
  {
   "cell_type": "code",
   "execution_count": 126,
   "id": "5802dfec-d705-43cb-9bf0-32673fccf7e1",
   "metadata": {},
   "outputs": [
    {
     "name": "stdin",
     "output_type": "stream",
     "text": [
      "Enter your name:  Ali\n",
      "Enter your favorite language:  python\n",
      "Enter your name:  Ali\n",
      "Enter your favorite language:  java script\n",
      "Enter your name:  umar\n",
      "Enter your favorite language:  php\n",
      "Enter your name:  zohaib\n",
      "Enter your favorite language:  c\n"
     ]
    },
    {
     "name": "stdout",
     "output_type": "stream",
     "text": [
      "\n",
      "Favorite Languages Dictionary:\n",
      "{'Ali': 'java script', 'umar': 'php', 'zohaib': 'c'}\n"
     ]
    }
   ],
   "source": [
    "# If the names of 2 friends are same; it will give second key value\n",
    "# Create an empty dictionary\n",
    "fav_languages = {}\n",
    "\n",
    "# Input favorite languages from 4 friends\n",
    "name1 = input(\"Enter your name: \")\n",
    "lang1 = input(\"Enter your favorite language: \")\n",
    "fav_languages[name1] = lang1\n",
    "\n",
    "name2 = input(\"Enter your name: \")\n",
    "lang2 = input(\"Enter your favorite language: \")\n",
    "fav_languages[name2] = lang2\n",
    "\n",
    "name3 = input(\"Enter your name: \")\n",
    "lang3 = input(\"Enter your favorite language: \")\n",
    "fav_languages[name3] = lang3\n",
    "\n",
    "name4 = input(\"Enter your name: \")\n",
    "lang4 = input(\"Enter your favorite language: \")\n",
    "fav_languages[name4] = lang4\n",
    "\n",
    "# Display the dictionary\n",
    "print(\"\\nFavorite Languages Dictionary:\")\n",
    "print(fav_languages)"
   ]
  },
  {
   "cell_type": "markdown",
   "id": "e94dff14-7a98-49d3-9c25-fa21f819bb8c",
   "metadata": {},
   "source": [
    "### Quiz 9\n",
    "Can you change the values inside a list which is contained in set S"
   ]
  },
  {
   "cell_type": "code",
   "execution_count": 127,
   "id": "cfbed435-d027-4385-ba44-b21ef989c927",
   "metadata": {},
   "outputs": [
    {
     "ename": "TypeError",
     "evalue": "unhashable type: 'list'",
     "output_type": "error",
     "traceback": [
      "\u001b[1;31m---------------------------------------------------------------------------\u001b[0m",
      "\u001b[1;31mTypeError\u001b[0m                                 Traceback (most recent call last)",
      "Cell \u001b[1;32mIn[127], line 1\u001b[0m\n\u001b[1;32m----> 1\u001b[0m s \u001b[38;5;241m=\u001b[39m {[\u001b[38;5;241m1\u001b[39m, \u001b[38;5;241m2\u001b[39m, \u001b[38;5;241m3\u001b[39m]}  \u001b[38;5;66;03m# Trying to put a list inside a set.....N0\u001b[39;00m\n",
      "\u001b[1;31mTypeError\u001b[0m: unhashable type: 'list'"
     ]
    }
   ],
   "source": [
    "s = {[1, 2, 3]}  # Trying to put a list inside a set.....\n",
    "# Answer is N0"
   ]
  },
  {
   "cell_type": "markdown",
   "id": "c6e68ce4-7dff-4066-a01c-a5e8ba6f1452",
   "metadata": {},
   "source": [
    "# CHAPTER 6 – CONDITIONAL EXPRESSION"
   ]
  },
  {
   "cell_type": "markdown",
   "id": "7bec15cd-3daf-4f4b-be01-93c95d42063d",
   "metadata": {},
   "source": [
    "1. Write a program to find the greatest of four numbers entered by the user.\n",
    "2. Write a program to find out whether a student has passed or failed if it requires a \n",
    "total of 40% and at least 33% in each subject to pass. Assume 3 subjects and \n",
    "take marks as an input from the user.\n",
    "3. A spam comment is defined as a text containing following keywords:\n",
    "“Make a lot of money”, “buy now”, “subscribe this”, “click this”. Write a program \n",
    "to detect these spams.\n",
    "4. Write a program to find whether a given username contains less than 10 \n",
    "characters or not.\n",
    "5. Write a program which finds out whether a given name is present in a list or not.\n",
    "6. Write a program to calculate the grade of a student from his marks from the \n",
    "following scheme:\n",
    "90 – 100 => Ex\n",
    "80 – 90 => A\n",
    "70 – 80 => B\n",
    "60 – 70 =>C\n",
    "50 – 60 => D\n",
    "<50 => F\n",
    "7. Write a program to find out whether a given post is talking about “Harry” or not"
   ]
  },
  {
   "cell_type": "markdown",
   "id": "6ce44b61-9760-40b9-a876-f04246b19cb1",
   "metadata": {},
   "source": [
    "### Quiz 1\n",
    "Write a program to find the greatest of four numbers entered by the user."
   ]
  },
  {
   "cell_type": "code",
   "execution_count": 48,
   "id": "e45d8ce1-d79d-4678-beee-b47d2dad51dc",
   "metadata": {},
   "outputs": [
    {
     "name": "stdin",
     "output_type": "stream",
     "text": [
      "Enter first number:  45\n",
      "Enter second number:  676\n",
      "Enter third number:  87\n",
      "Enter fourth number:  34\n"
     ]
    },
    {
     "name": "stdout",
     "output_type": "stream",
     "text": [
      "The greatest number is: 676.0\n"
     ]
    }
   ],
   "source": [
    "### Take four numbers as input from the user\n",
    "num1 = float(input(\"Enter first number: \"))\n",
    "num2 = float(input(\"Enter second number: \"))\n",
    "num3 = float(input(\"Enter third number: \"))\n",
    "num4 = float(input(\"Enter fourth number: \"))\n",
    "\n",
    "# Compare and find the greatest number\n",
    "greatest = max(num1, num2, num3, num4)\n",
    "\n",
    "# Display the result\n",
    "print(\"The greatest number is:\", greatest)\n"
   ]
  },
  {
   "cell_type": "markdown",
   "id": "37049db5-14cf-4004-a377-672b45e0d40a",
   "metadata": {},
   "source": [
    "### Quiz 2\n",
    "Write a program to find out whether a student has passed or failed if it requires a total of 40% and at least 33% in each subject to pass. Assume 3 subjects and take marks as an input from the user.\n"
   ]
  },
  {
   "cell_type": "code",
   "execution_count": 131,
   "id": "39a96ab6-cdf7-4f7a-917b-1fbbafe30313",
   "metadata": {},
   "outputs": [
    {
     "name": "stdin",
     "output_type": "stream",
     "text": [
      "Enter marks for subject 1 (out of 100):  50\n",
      "Enter marks for subject 2 (out of 100):  50\n",
      "Enter marks for subject 3 (out of 100):  50\n"
     ]
    },
    {
     "name": "stdout",
     "output_type": "stream",
     "text": [
      "Congratulations! You passed.\n"
     ]
    }
   ],
   "source": [
    "# Take marks input for 3 subjects from the user\n",
    "sub1 = float(input(\"Enter marks for subject 1 (out of 100): \"))\n",
    "sub2 = float(input(\"Enter marks for subject 2 (out of 100): \"))\n",
    "sub3 = float(input(\"Enter marks for subject 3 (out of 100): \"))\n",
    "\n",
    "# Calculate total percentage\n",
    "total = ((sub1 + sub2 + sub3) / 300)*100\n",
    "\n",
    "# Check pass conditions\n",
    "if sub1 < 33 or sub2 < 33 or sub3 < 33:\n",
    "    print(\"Failed: You scored less than 33% in one or more subjects.\")\n",
    "elif total < 40:\n",
    "    print(\"Failed: Your overall percentage is less than 40%.\")\n",
    "else:\n",
    "    print(\"Congratulations! You passed.\")\n"
   ]
  },
  {
   "cell_type": "markdown",
   "id": "3465ba1c-c329-4e97-aa0b-ea60c0166b4a",
   "metadata": {},
   "source": [
    "### Quiz 3\n",
    "A spam comment is defined as a text containing following keywords:\n",
    "“Make a lot of money”, “buy now”, “subscribe this”, “click this”. Write a program \n",
    "to detect these spams."
   ]
  },
  {
   "cell_type": "code",
   "execution_count": 54,
   "id": "9b203448-8013-4ccd-8f0c-987edd9ac78b",
   "metadata": {},
   "outputs": [
    {
     "name": "stdin",
     "output_type": "stream",
     "text": [
      "Enter a comment:  please buy now this product\n"
     ]
    },
    {
     "name": "stdout",
     "output_type": "stream",
     "text": [
      "This comment is spam.\n"
     ]
    }
   ],
   "source": [
    "# Take comment input from the user\n",
    "comment = input(\"Enter a comment: \").lower()  # Convert to lowercase for easy comparison\n",
    "\n",
    "# Define spam keywords\n",
    "spam_keywords = [\n",
    "    \"make a lot of money\",\n",
    "    \"buy now\",\n",
    "    \"subscribe this\",\n",
    "    \"click this\"\n",
    "]\n",
    "\n",
    "# Check if any spam keyword is in the comment\n",
    "is_spam = False\n",
    "for keyword in spam_keywords:\n",
    "    if keyword in comment:\n",
    "        is_spam = True\n",
    "        break\n",
    "\n",
    "# Output the result\n",
    "if is_spam:\n",
    "    print(\"This comment is spam.\")\n",
    "else:\n",
    "    print(\"This comment is not spam.\")\n"
   ]
  },
  {
   "cell_type": "markdown",
   "id": "6382d76b-8605-4090-88f9-46265d08aa64",
   "metadata": {},
   "source": [
    "### Quiz 4\n",
    "Write a program to find whether a given username contains less than 10 characters or not."
   ]
  },
  {
   "cell_type": "code",
   "execution_count": 55,
   "id": "7739e691-1606-4de1-af88-f8298cfcad9e",
   "metadata": {},
   "outputs": [
    {
     "name": "stdin",
     "output_type": "stream",
     "text": [
      "Enter your username:  Ali Raza\n"
     ]
    },
    {
     "name": "stdout",
     "output_type": "stream",
     "text": [
      "Username is less than 10 characters.\n"
     ]
    }
   ],
   "source": [
    "# Take username input from the user\n",
    "username = input(\"Enter your username: \")\n",
    "\n",
    "# Check the length of the username\n",
    "if len(username) < 10:\n",
    "    print(\"Username is less than 10 characters.\")\n",
    "else:\n",
    "    print(\"Username has 10 or more characters.\")\n"
   ]
  },
  {
   "cell_type": "markdown",
   "id": "64a8b44a-bbb5-4242-b5e5-bb0ab7d8810e",
   "metadata": {},
   "source": [
    "### Quiz 5\n",
    "Write a program which finds out whether a given name is present in a list or not."
   ]
  },
  {
   "cell_type": "code",
   "execution_count": 56,
   "id": "d0bff81b-234c-4bd1-9fd9-d923a18a3fba",
   "metadata": {},
   "outputs": [
    {
     "name": "stdin",
     "output_type": "stream",
     "text": [
      "Enter a name to search:  Ali\n"
     ]
    },
    {
     "name": "stdout",
     "output_type": "stream",
     "text": [
      "Ali is present in the list.\n"
     ]
    }
   ],
   "source": [
    "# Define a list of names\n",
    "names = [\"Ali\", \"Sara\", \"Ahmed\", \"Zara\", \"Hassan\"]\n",
    "\n",
    "# Take a name as input from the user\n",
    "name_to_check = input(\"Enter a name to search: \")\n",
    "\n",
    "# Check if the name is in the list\n",
    "if name_to_check in names:\n",
    "    print(f\"{name_to_check} is present in the list.\")\n",
    "else:\n",
    "    print(f\"{name_to_check} is not present in the list.\")\n"
   ]
  },
  {
   "cell_type": "markdown",
   "id": "fd54f32b-f95f-4c60-9a21-31902c1cf79e",
   "metadata": {},
   "source": [
    "### Quiz 6\n",
    "Write a program to calculate the grade of a student from his marks from the following scheme: 90 – 100 => Ex 80 – 90 => A 70 – 80 => B 60 – 70 =>C 50 – 60 => D <50 => F"
   ]
  },
  {
   "cell_type": "code",
   "execution_count": 58,
   "id": "8164b24f-7495-475f-a57a-3a4d8a938e04",
   "metadata": {},
   "outputs": [
    {
     "name": "stdin",
     "output_type": "stream",
     "text": [
      "Enter your marks (0 to 100):  46\n"
     ]
    },
    {
     "name": "stdout",
     "output_type": "stream",
     "text": [
      "Your grade is: F\n"
     ]
    }
   ],
   "source": [
    "# Take marks input from the user\n",
    "marks = float(input(\"Enter your marks (0 to 100): \"))\n",
    "\n",
    "# Determine grade based on the scheme\n",
    "if 90 <= marks <= 100:\n",
    "    grade = \"Ex\"\n",
    "elif 80 <= marks < 90:\n",
    "    grade = \"A\"\n",
    "elif 70 <= marks < 80:\n",
    "    grade = \"B\"\n",
    "elif 60 <= marks < 70:\n",
    "    grade = \"C\"\n",
    "elif 50 <= marks < 60:\n",
    "    grade = \"D\"\n",
    "elif 0 <= marks < 50:\n",
    "    grade = \"F\"\n",
    "else:\n",
    "    grade = \"Invalid marks\"\n",
    "\n",
    "# Display the result\n",
    "print(\"Your grade is:\", grade)\n"
   ]
  },
  {
   "cell_type": "markdown",
   "id": "b4d6a5fb-2d59-41b5-8d04-fd9ec0454fcb",
   "metadata": {},
   "source": [
    "### Quiz 7\n",
    "Write a program to find out whether a given post is talking about “Harry” or not"
   ]
  },
  {
   "cell_type": "code",
   "execution_count": 59,
   "id": "f129b62e-76c6-4c5e-b4ac-abb2114b1a4b",
   "metadata": {},
   "outputs": [
    {
     "name": "stdin",
     "output_type": "stream",
     "text": [
      "Enter the post content:  harry is a good boye\n"
     ]
    },
    {
     "name": "stdout",
     "output_type": "stream",
     "text": [
      "The post is talking about Harry.\n"
     ]
    }
   ],
   "source": [
    "# Take post content input from the user\n",
    "post = input(\"Enter the post content: \")\n",
    "\n",
    "# Convert to lowercase to make the search case-insensitive\n",
    "if \"harry\" in post.lower():\n",
    "    print(\"The post is talking about Harry.\")\n",
    "else:\n",
    "    print(\"The post is not talking about Harry.\")\n"
   ]
  },
  {
   "cell_type": "markdown",
   "id": "fa06b0c3-7d49-4711-bb61-3be072239bdc",
   "metadata": {},
   "source": [
    "# CHAPTER 7 – LOOPS IN PYTHON"
   ]
  },
  {
   "cell_type": "markdown",
   "id": "4b28fb15-54a2-42b8-a160-c9bd8c1d2dd3",
   "metadata": {},
   "source": [
    "1. Write a program to print multiplication table of a given number using for loop.\n",
    "2. Write a program to greet all the person names stored in a list ‘l’ and which starts \n",
    "with S.\n",
    "l = [\"Harry\", \"Soham\", \"Sachin\", \"Rahul\"]\n",
    "4. Write a program to find whether a given number is prime or not.\n",
    "5. Write a program to find the sum of first n natural numbers using while loop.\n",
    "6. Write a program to calculate the factorial of a given number using for loop"
   ]
  },
  {
   "cell_type": "markdown",
   "id": "1bcddf19-9892-44eb-8f23-ac61b309c764",
   "metadata": {},
   "source": [
    "### Quiz 1\n",
    "Write a program to print multiplication table of a given number using for loop."
   ]
  },
  {
   "cell_type": "code",
   "execution_count": 60,
   "id": "1ff93364-96f4-4584-8e27-efd1639659d6",
   "metadata": {},
   "outputs": [
    {
     "name": "stdin",
     "output_type": "stream",
     "text": [
      "Enter a number to print its multiplication table:  10\n"
     ]
    },
    {
     "name": "stdout",
     "output_type": "stream",
     "text": [
      "\n",
      "Multiplication Table of 10:\n",
      "10 x 1 = 10\n",
      "10 x 2 = 20\n",
      "10 x 3 = 30\n",
      "10 x 4 = 40\n",
      "10 x 5 = 50\n",
      "10 x 6 = 60\n",
      "10 x 7 = 70\n",
      "10 x 8 = 80\n",
      "10 x 9 = 90\n",
      "10 x 10 = 100\n"
     ]
    }
   ],
   "source": [
    "# Take a number as input from the user\n",
    "num = int(input(\"Enter a number to print its multiplication table: \"))\n",
    "\n",
    "# Print the multiplication table using for loop\n",
    "print(f\"\\nMultiplication Table of {num}:\")\n",
    "for i in range(1, 11):\n",
    "    print(f\"{num} x {i} = {num * i}\")\n"
   ]
  },
  {
   "cell_type": "markdown",
   "id": "e7ae2595-7ef1-49b2-922c-1444b4ab0273",
   "metadata": {},
   "source": [
    "### Quiz 2\n",
    "Write a program to greet all the person names stored in a list ‘l’ and which starts with S. l = [\"Harry\", \"Soham\", \"Sachin\", \"Rahul\"]"
   ]
  },
  {
   "cell_type": "code",
   "execution_count": 61,
   "id": "4c04e1ee-2d98-4496-ac56-922c76f59a40",
   "metadata": {},
   "outputs": [
    {
     "name": "stdout",
     "output_type": "stream",
     "text": [
      "Hello Soham\n",
      "Hello Sachin\n"
     ]
    }
   ],
   "source": [
    "# List of names\n",
    "l = [\"Harry\", \"Soham\", \"Sachin\", \"Rahul\"]\n",
    "\n",
    "# Greet names that start with 'S'\n",
    "for name in l:\n",
    "    if name.startswith(\"S\"):\n",
    "        print(\"Hello\", name)\n"
   ]
  },
  {
   "cell_type": "markdown",
   "id": "181cadb9-dac8-416b-a19a-33ac2e8c08dc",
   "metadata": {},
   "source": [
    "### Quiz 3\n",
    "Write a program to find whether a given number is prime or not."
   ]
  },
  {
   "cell_type": "code",
   "execution_count": 62,
   "id": "14dfb8af-951f-4a7b-bc6b-1bc62b62585e",
   "metadata": {},
   "outputs": [
    {
     "name": "stdin",
     "output_type": "stream",
     "text": [
      "Enter a number:  13\n"
     ]
    },
    {
     "name": "stdout",
     "output_type": "stream",
     "text": [
      "It is a prime number.\n"
     ]
    }
   ],
   "source": [
    "# Take input from the user\n",
    "num = int(input(\"Enter a number: \"))\n",
    "\n",
    "# Prime numbers are greater than 1\n",
    "if num <= 1:\n",
    "    print(\"Not a prime number.\")\n",
    "else:\n",
    "    # Check for factors from 2 to sqrt(num)\n",
    "    for i in range(2, int(num ** 0.5) + 1):\n",
    "        if num % i == 0:\n",
    "            print(\"Not a prime number.\")\n",
    "            break\n",
    "    else:\n",
    "        print(\"It is a prime number.\")\n"
   ]
  },
  {
   "cell_type": "markdown",
   "id": "1906abe8-c9f4-45f0-a70f-d7de1de15c3d",
   "metadata": {},
   "source": [
    "### Quiz 4\n",
    "Write a program to find the sum of first n natural numbers using while loop."
   ]
  },
  {
   "cell_type": "code",
   "execution_count": 64,
   "id": "f106f811-b1d8-4697-b6e3-0c54f8b1db3b",
   "metadata": {},
   "outputs": [
    {
     "name": "stdin",
     "output_type": "stream",
     "text": [
      "Enter the value of n:  10\n"
     ]
    },
    {
     "name": "stdout",
     "output_type": "stream",
     "text": [
      "The sum of the first 10 natural numbers is: 55\n"
     ]
    }
   ],
   "source": [
    "# Take input from the user\n",
    "n = int(input(\"Enter the value of n: \"))\n",
    "\n",
    "# Initialize variables\n",
    "sum = 0\n",
    "i = 1\n",
    "\n",
    "# Use while loop to calculate sum\n",
    "while i <= n:\n",
    "    sum += i\n",
    "    i += 1\n",
    "\n",
    "# Print the result\n",
    "print(\"The sum of the first\", n, \"natural numbers is:\", sum)\n"
   ]
  },
  {
   "cell_type": "markdown",
   "id": "a33f7b98-3159-4ef0-b430-7877f18b4371",
   "metadata": {},
   "source": [
    "### Quiz 5\n",
    "Write a program to calculate the factorial of a given number using for loop"
   ]
  },
  {
   "cell_type": "code",
   "execution_count": 65,
   "id": "0915e476-8ba1-4ca1-9328-9621f70f7d51",
   "metadata": {},
   "outputs": [
    {
     "name": "stdin",
     "output_type": "stream",
     "text": [
      "Enter a number to find its factorial:  8\n"
     ]
    },
    {
     "name": "stdout",
     "output_type": "stream",
     "text": [
      "The factorial of 8 is: 40320\n"
     ]
    }
   ],
   "source": [
    "# Take input from the user\n",
    "num = int(input(\"Enter a number to find its factorial: \"))\n",
    "\n",
    "# Initialize factorial result\n",
    "factorial = 1\n",
    "\n",
    "# Calculate factorial using for loop\n",
    "for i in range(1, num + 1):\n",
    "    factorial *= i\n",
    "\n",
    "# Print the result\n",
    "print(f\"The factorial of {num} is: {factorial}\")"
   ]
  },
  {
   "cell_type": "markdown",
   "id": "3054e04c-8642-4e8d-8366-5ceb7435a291",
   "metadata": {},
   "source": [
    "# CHAPTER 8 – FUNCTIONS & RECURSIONS"
   ]
  },
  {
   "cell_type": "markdown",
   "id": "0409da88-d00b-454d-935b-10f386f15994",
   "metadata": {},
   "source": [
    "1. Write a program using functions to find greatest of three numbers.\n",
    "2. Write a python program using function to convert Celsius to Fahrenheit.\n",
    "3. How do you prevent a python print() function to print a new line at the end.\n",
    "4. Write a recursive function to calculate the sum of first n natural numbers.\n",
    "5. Write a python function which converts inches to cms.\n",
    "6. Write a python function to remove a given word from a list ad strip it at the same \n",
    "time.\n",
    "7. Write a python function to print multiplication table of a given number."
   ]
  },
  {
   "cell_type": "markdown",
   "id": "5969dfbe-837e-493f-8f56-ebadc9342df1",
   "metadata": {},
   "source": [
    "### Quiz 1\n",
    "Write a program using functions to find greatest of three numbers."
   ]
  },
  {
   "cell_type": "code",
   "execution_count": 66,
   "id": "3ce4c6f5-b055-4350-a15a-470372af41f4",
   "metadata": {},
   "outputs": [
    {
     "name": "stdin",
     "output_type": "stream",
     "text": [
      "Enter first number:  23\n",
      "Enter second number:  67\n",
      "Enter third number:  78\n"
     ]
    },
    {
     "name": "stdout",
     "output_type": "stream",
     "text": [
      "The greatest number is: 78.0\n"
     ]
    }
   ],
   "source": [
    "# Define a function to find the greatest of three numbers\n",
    "def find_greatest(a, b, c):\n",
    "    if a >= b and a >= c:\n",
    "        return a\n",
    "    elif b >= a and b >= c:\n",
    "        return b\n",
    "    else:\n",
    "        return c\n",
    "\n",
    "# Take input from the user\n",
    "num1 = float(input(\"Enter first number: \"))\n",
    "num2 = float(input(\"Enter second number: \"))\n",
    "num3 = float(input(\"Enter third number: \"))\n",
    "\n",
    "# Call the function and display the result\n",
    "greatest = find_greatest(num1, num2, num3)\n",
    "print(\"The greatest number is:\", greatest)"
   ]
  },
  {
   "cell_type": "markdown",
   "id": "d650dbb7-89b2-4e63-8b8a-b5aef7663616",
   "metadata": {},
   "source": [
    "### Quiz 2\n",
    "Write a python program using function to convert Celsius to Fahrenheit."
   ]
  },
  {
   "cell_type": "code",
   "execution_count": 67,
   "id": "ed830894-74e3-4d7d-8bce-849fdec3ff6f",
   "metadata": {},
   "outputs": [
    {
     "name": "stdin",
     "output_type": "stream",
     "text": [
      "Enter temperature in Celsius:  30\n"
     ]
    },
    {
     "name": "stdout",
     "output_type": "stream",
     "text": [
      "30.0°C is equal to 86.0°F\n"
     ]
    }
   ],
   "source": [
    "# Function to convert Celsius to Fahrenheit\n",
    "def celsius_to_fahrenheit(celsius):\n",
    "    fahrenheit = (celsius * 9/5) + 32\n",
    "    return fahrenheit\n",
    "\n",
    "# Take temperature input from the user\n",
    "c = float(input(\"Enter temperature in Celsius: \"))\n",
    "\n",
    "# Call the function and display the result\n",
    "f = celsius_to_fahrenheit(c)\n",
    "print(f\"{c}°C is equal to {f}°F\")\n"
   ]
  },
  {
   "cell_type": "markdown",
   "id": "7bf68093-a706-4c96-9b2f-f2cc9b66c00e",
   "metadata": {},
   "source": [
    "### Quiz 3\n",
    "How do you prevent a python print() function to print a new line at the end."
   ]
  },
  {
   "cell_type": "code",
   "execution_count": 68,
   "id": "fd9207ad-807d-4cce-b0d2-08f76fb7c3e5",
   "metadata": {},
   "outputs": [
    {
     "name": "stdout",
     "output_type": "stream",
     "text": [
      "HelloWorld\n"
     ]
    }
   ],
   "source": [
    "print(\"Hello\", end=\"\")  # No newline at the end\n",
    "print(\"World\")\n"
   ]
  },
  {
   "cell_type": "markdown",
   "id": "1791ea73-85f7-4aad-87d2-72c75a2768ac",
   "metadata": {},
   "source": [
    "### Quiz 4\n",
    "Write a recursive function to calculate the sum of first n natural numbers."
   ]
  },
  {
   "cell_type": "code",
   "execution_count": 69,
   "id": "22567aa1-b6f0-44b4-a4d7-17cc99951a7b",
   "metadata": {},
   "outputs": [
    {
     "name": "stdin",
     "output_type": "stream",
     "text": [
      "Enter a positive integer:  10\n"
     ]
    },
    {
     "name": "stdout",
     "output_type": "stream",
     "text": [
      "The sum of the first 10 natural numbers is: 55\n"
     ]
    }
   ],
   "source": [
    "def sum_natural(n):\n",
    "    if n == 1:\n",
    "        return 1\n",
    "    else:\n",
    "        return n + sum_natural(n - 1)\n",
    "\n",
    "# Take input from the user\n",
    "num = int(input(\"Enter a positive integer: \"))\n",
    "\n",
    "# Check if input is valid\n",
    "if num < 1:\n",
    "    print(\"Please enter a number greater than 0.\")\n",
    "else:\n",
    "    result = sum_natural(num)\n",
    "    print(f\"The sum of the first {num} natural numbers is: {result}\")\n"
   ]
  },
  {
   "cell_type": "markdown",
   "id": "ed41a9c5-b6fe-4d96-bf7d-f4a235e3d2d2",
   "metadata": {},
   "source": [
    "### Quiz 5\n",
    "Write a python function which converts inches to cms"
   ]
  },
  {
   "cell_type": "code",
   "execution_count": 70,
   "id": "4c17d863-3171-49ac-9553-9476e921eff1",
   "metadata": {},
   "outputs": [
    {
     "name": "stdin",
     "output_type": "stream",
     "text": [
      "Enter length in inches:  30\n"
     ]
    },
    {
     "name": "stdout",
     "output_type": "stream",
     "text": [
      "30.0 inches is equal to 76.2 centimeters.\n"
     ]
    }
   ],
   "source": [
    "def inches_to_cm(inches):\n",
    "    return inches * 2.54\n",
    "\n",
    "# Take input from the user\n",
    "inch = float(input(\"Enter length in inches: \"))\n",
    "\n",
    "# Call the function and display the result\n",
    "cm = inches_to_cm(inch)\n",
    "print(f\"{inch} inches is equal to {cm} centimeters.\")\n"
   ]
  },
  {
   "cell_type": "markdown",
   "id": "247f151f-93e5-43fe-9009-f8d30b2318e0",
   "metadata": {},
   "source": [
    "### Quiz 6\n",
    "Write a python function to remove a given word from a list ad strip it at the same time."
   ]
  },
  {
   "cell_type": "code",
   "execution_count": 71,
   "id": "5f08f5cb-4f67-4f45-adf6-514905b0934a",
   "metadata": {},
   "outputs": [
    {
     "name": "stdout",
     "output_type": "stream",
     "text": [
      "Updated list: ['apple', 'mango', 'grape']\n"
     ]
    }
   ],
   "source": [
    "def remove_word(word_list, word_to_remove):\n",
    "    # Strip each word and remove the matching one\n",
    "    cleaned_list = [word.strip() for word in word_list if word.strip() != word_to_remove]\n",
    "    return cleaned_list\n",
    "\n",
    "# Example usage\n",
    "words = [\" apple \", \"banana\", \" mango \", \"banana \", \"grape\"]\n",
    "word_to_remove = \"banana\"\n",
    "\n",
    "# Call the function\n",
    "result = remove_word(words, word_to_remove)\n",
    "print(\"Updated list:\", result)\n"
   ]
  },
  {
   "cell_type": "markdown",
   "id": "cc8dc99b-0fcf-4233-b998-1e44dd2517b0",
   "metadata": {},
   "source": [
    "### Quiz 7\n",
    "Write a python function to print multiplication table of a given number."
   ]
  },
  {
   "cell_type": "code",
   "execution_count": 72,
   "id": "9921349a-a829-4fbe-83ff-9c9321874c77",
   "metadata": {},
   "outputs": [
    {
     "name": "stdin",
     "output_type": "stream",
     "text": [
      "Enter a number to print its multiplication table:  5\n"
     ]
    },
    {
     "name": "stdout",
     "output_type": "stream",
     "text": [
      "Multiplication Table of 5:\n",
      "5 x 1 = 5\n",
      "5 x 2 = 10\n",
      "5 x 3 = 15\n",
      "5 x 4 = 20\n",
      "5 x 5 = 25\n",
      "5 x 6 = 30\n",
      "5 x 7 = 35\n",
      "5 x 8 = 40\n",
      "5 x 9 = 45\n",
      "5 x 10 = 50\n"
     ]
    }
   ],
   "source": [
    "def print_table(n):\n",
    "    print(f\"Multiplication Table of {n}:\")\n",
    "    for i in range(1, 11):\n",
    "        print(f\"{n} x {i} = {n * i}\")\n",
    "\n",
    "# Example usage\n",
    "num = int(input(\"Enter a number to print its multiplication table: \"))\n",
    "print_table(num)\n"
   ]
  },
  {
   "cell_type": "markdown",
   "id": "8707a7d9-fc97-47f5-b1f6-af5fd3e85082",
   "metadata": {},
   "source": [
    "# CHAPTER 9 – FILE I/O\n",
    "1. Write a program to read the text from a given file ‘poems.txt’ and find out \n",
    "whether it contains the word ‘twinkle’.\n",
    "2. The game() function in a program lets a user play a game and returns the score \n",
    "as an integer. You need to read a file ‘Hi-score.txt’ which is either blank or \n",
    "contains the previous Hi-score. You need to write a program to update the Hi\u0002score whenever the game() function breaks the Hi-score.\n",
    "3. Write a program to generate multiplication tables from 2 to 20 and write it to the \n",
    "different files. Place these files in a folder for a 13 – year old.\n",
    "4. A file contains a word “Donkey” multiple times. You need to write a program \n",
    "which replace this word with ##### by updating the same file. \n",
    "5. Repeat program 4 for a list of such words to be censored.\n",
    "6. Write a program to mine a log file and find out whether it contains ‘python’.\n",
    "7. Write a program to find out the line number where python is present from ques 6.\n",
    "8. Write a program to make a copy of a text file “this. txt”\n",
    "9. Write a program to find out whether a file is identical & matches the content of \n",
    "another file.\n",
    "10. Write a program to wipe out the content of a file using python.\n",
    "11. Write a python program to rename a file to “renamed_by_ python.txt."
   ]
  },
  {
   "cell_type": "markdown",
   "id": "80a972d1-7e5d-461a-bc3d-ddfccd021be5",
   "metadata": {},
   "source": [
    "### Quiz 1\n",
    "Write a program to read the text from a given file ‘poems.txt’ and find out whether it contains the word ‘twinkle’."
   ]
  },
  {
   "cell_type": "code",
   "execution_count": 102,
   "id": "7778f560-4dcb-47be-aa4f-bcda97880785",
   "metadata": {},
   "outputs": [
    {
     "name": "stdout",
     "output_type": "stream",
     "text": [
      "The word 'twinkle' is present in the file.\n"
     ]
    }
   ],
   "source": [
    "\n",
    "#first of all we need to creat a file \n",
    "with open(\"poems.txt\", \"w\") as file:\n",
    "    file.write(\"twinkle\")\n",
    "# Open the file in read mode\n",
    "with open(\"poems.txt\", \"r\") as file:\n",
    "    content = file.read()\n",
    "\n",
    "# Check if 'twinkle' is in the file content (case-insensitive)\n",
    "if \"twinkle\" in content.lower():\n",
    "    print(\"The word 'twinkle' is present in the file.\")\n",
    "else:\n",
    "    print(\"The word 'twinkle' is not present in the file.\")\n"
   ]
  },
  {
   "cell_type": "markdown",
   "id": "02fd6acb-180a-4546-a006-d809df9bc6bf",
   "metadata": {},
   "source": [
    "### Quiz 2\n",
    "The game() function in a program lets a user play a game and returns the score as an integer. You need to read a file ‘Hi-score.txt’ which is either blank or contains the previous Hi-score. You need to write a program to update the Hi\u0002score whenever the game() function breaks the Hi-score."
   ]
  },
  {
   "cell_type": "code",
   "execution_count": 136,
   "id": "b49ad444-0fc8-470e-bb8b-e781d86bcc57",
   "metadata": {},
   "outputs": [
    {
     "name": "stdin",
     "output_type": "stream",
     "text": [
      "Enter your current game score:  2\n"
     ]
    },
    {
     "name": "stdout",
     "output_type": "stream",
     "text": [
      "Your score: 2\n",
      "Current high score: 100\n"
     ]
    }
   ],
   "source": [
    "# Simulated game function that returns a score (you can replace this)\n",
    "def game():\n",
    "    return int(input(\"Enter your current game score: \"))\n",
    "\n",
    "# Get the current score\n",
    "score = game()\n",
    "\n",
    "try:\n",
    "    with open(\"Hi-score.txt\", \"r\") as file:\n",
    "        content = file.read()\n",
    "        if content.strip() == \"\":\n",
    "            hi_score = 0\n",
    "        else:\n",
    "            hi_score = int(content)\n",
    "except FileNotFoundError:\n",
    "    # If file doesn't exist, start with hi_score 0\n",
    "    hi_score = 0\n",
    "\n",
    "# Check and update high score if necessary\n",
    "if score > hi_score:\n",
    "    print(\"🎉 New high score!\")\n",
    "    with open(\"Hi-score.txt\", \"w\") as file:\n",
    "        file.write(str(score))\n",
    "else:\n",
    "    print(\"Your score:\", score)\n",
    "    print(\"Current high score:\", hi_score)"
   ]
  },
  {
   "cell_type": "markdown",
   "id": "dcd8494c-0fbb-4f22-8840-cc5f10953e61",
   "metadata": {},
   "source": [
    "### Quiz 3\n",
    "Write a program to generate multiplication tables from 2 to 20 and write it to the different files. Place these files in a folder for a 13 – year old."
   ]
  },
  {
   "cell_type": "code",
   "execution_count": 155,
   "id": "d128d679-459c-4d9a-ac2e-d009b0a9a8cc",
   "metadata": {},
   "outputs": [
    {
     "name": "stdout",
     "output_type": "stream",
     "text": [
      " All multiplication tables from 2 to 20 have been saved in the 'Tables_for_13yo' folder.\n",
      "File Contents:\n",
      "\n",
      "Multiplication Table of 2\n",
      "------------------------------\n",
      "2 x 1 = 2\n",
      "2 x 2 = 4\n",
      "2 x 3 = 6\n",
      "2 x 4 = 8\n",
      "2 x 5 = 10\n",
      "2 x 6 = 12\n",
      "2 x 7 = 14\n",
      "2 x 8 = 16\n",
      "2 x 9 = 18\n",
      "2 x 10 = 20\n",
      "\n"
     ]
    }
   ],
   "source": [
    "import os\n",
    "\n",
    "# Create a folder for the 13-year-old if it doesn't exist\n",
    "folder_name = \"Tables_for_13yo\"\n",
    "os.makedirs(folder_name, exist_ok=True)\n",
    "\n",
    "# Generate tables from 2 to 20\n",
    "for num in range(2, 21):\n",
    "    filename = os.path.join(folder_name, f\"Table_of_{num}.txt\")\n",
    "    \n",
    "    with open(filename, \"w\") as file:\n",
    "        file.write(f\"Multiplication Table of {num}\\n\")\n",
    "        file.write(\"-\" * 30 + \"\\n\")\n",
    "        for i in range(1, 11):\n",
    "            file.write(f\"{num} x {i} = {num * i}\\n\")\n",
    "\n",
    "print(\" All multiplication tables from 2 to 20 have been saved in the 'Tables_for_13yo' folder.\")\n",
    "\n",
    "\n",
    "file_path=r\"C:\\Users\\BILAL COMPUTER VEHOA\\Tables_for_13yo\\Table_of_2.txt\"\n",
    "\n",
    "# Display any table\n",
    "\n",
    "with open(file_path, 'r') as file:\n",
    "    content = file.read()\n",
    "    print(\"File Contents:\\n\")\n",
    "    print(content)"
   ]
  },
  {
   "cell_type": "markdown",
   "id": "f0d965b9-83fa-46ee-b62e-55f085064454",
   "metadata": {},
   "source": [
    "### Quiz 4\n",
    "A file contains a word “Donkey” multiple times. You need to write a program which replace this word with ##### by updating the same file."
   ]
  },
  {
   "cell_type": "code",
   "execution_count": 161,
   "id": "a50e513c-b0f5-4f9b-9be3-481d23e18f55",
   "metadata": {},
   "outputs": [
    {
     "name": "stdout",
     "output_type": "stream",
     "text": [
      " All occurrences of 'Donkey' have been replaced with '#####'.\n"
     ]
    }
   ],
   "source": [
    "# Step 1: Open the file in read mode and get content\n",
    "with open(\"text.txt\", \"r\", encoding=\"utf-8\") as file:\n",
    "    content = file.read()\n",
    "\n",
    "# Step 2: Replace the word \"Donkey\" with \"#####\"\n",
    "content = content.replace(\"Donkey\", \"#####\")\n",
    "\n",
    "# Step 3: Write the updated content back to the same file\n",
    "with open(\"text.txt\", \"w\", encoding=\"utf-8\") as file:\n",
    "    file.write(content)\n",
    "\n",
    "print(\" All occurrences of 'Donkey' have been replaced with '#####'.\")"
   ]
  },
  {
   "cell_type": "markdown",
   "id": "2c4deccd-971e-416d-abd1-5c6ddc65c7cf",
   "metadata": {},
   "source": [
    "### Quiz 5\n",
    "Repeat program 4 for a list of such words to be censored"
   ]
  },
  {
   "cell_type": "code",
   "execution_count": 160,
   "id": "09f68d9a-a08f-4602-8914-5ffc70c5d27a",
   "metadata": {},
   "outputs": [
    {
     "name": "stdout",
     "output_type": "stream",
     "text": [
      " All specified bad words have been replaced with '#####'.\n"
     ]
    }
   ],
   "source": [
    "# List of words to be censored\n",
    "bad_words = [\"donkey\", \"dog\", \"cat\"]\n",
    "\n",
    "# Step 1: Read the original file content\n",
    "with open(\"text.txt\", \"r\", encoding=\"utf-8\") as file:\n",
    "    content = file.read()\n",
    "\n",
    "# Step 2: Replace each bad word with \"#####\"\n",
    "for word in bad_words:\n",
    "    content = content.replace(word, \"#####\")\n",
    "\n",
    "# Step 3: Write the updated content back to the same file\n",
    "with open(\"text.txt\", \"w\", encoding=\"utf-8\") as file:\n",
    "    file.write(content)\n",
    "\n",
    "print(\" All specified bad words have been replaced with '#####'.\")\n"
   ]
  },
  {
   "cell_type": "markdown",
   "id": "18aa6d89-6ae0-45ef-84d3-d5a929f28ab9",
   "metadata": {},
   "source": [
    "### Quiz 6\n",
    "Write a program to mine a log file and find out whether it contains ‘python’"
   ]
  },
  {
   "cell_type": "code",
   "execution_count": 164,
   "id": "c0dfa0fb-74d7-4ecd-af7c-728b6452388f",
   "metadata": {},
   "outputs": [
    {
     "name": "stdout",
     "output_type": "stream",
     "text": [
      " The word 'python' was not found in the log file.\n"
     ]
    }
   ],
   "source": [
    "# Specify the log file path\n",
    "log_file = \"log.txt\" \n",
    "\n",
    "# Read the file and check for the word 'python'\n",
    "try:\n",
    "    with open(log_file, \"r\", encoding=\"utf-8\") as file:\n",
    "        content = file.read()\n",
    "\n",
    "    if \"python\" in content.lower():  # case-insensitive match\n",
    "        print(\"The log file contains the word 'python'.\")\n",
    "    else:\n",
    "        print(\" The word 'python' was not found in the log file.\")\n",
    "\n",
    "except FileNotFoundError:\n",
    "    print(\"The log file does not exist. Please check the file name and path.\")\n"
   ]
  },
  {
   "cell_type": "markdown",
   "id": "20a55cbe-fcde-4ee8-8c47-3a8434dfaaa7",
   "metadata": {},
   "source": [
    "### Quiz 7\n",
    "Write a program to find out the line number where python is present from ques 6."
   ]
  },
  {
   "cell_type": "code",
   "execution_count": 165,
   "id": "a45ec1f0-8cb1-474b-9d3e-2b55bd60369d",
   "metadata": {},
   "outputs": [
    {
     "name": "stdout",
     "output_type": "stream",
     "text": [
      "Lines containing the word 'python':\n",
      "The word 'python' was not found in any line.\n"
     ]
    }
   ],
   "source": [
    "log_file = \"log.txt\"  \n",
    "\n",
    "try:\n",
    "    with open(log_file, \"r\", encoding=\"utf-8\") as file:\n",
    "        lines = file.readlines() \n",
    "    print(\"Lines containing the word 'python':\")\n",
    "    found = False\n",
    "    for index, line in enumerate(lines, start=1): \n",
    "        if \"python\" in line.lower():  # Case-insensitive check\n",
    "            print(f\"Line {index}: {line.strip()}\")\n",
    "            found = True\n",
    "\n",
    "    if not found:\n",
    "        print(\"The word 'python' was not found in any line.\")\n",
    "\n",
    "except FileNotFoundError:\n",
    "    print(\"File not found. Please check the file path and name.\")\n"
   ]
  },
  {
   "cell_type": "markdown",
   "id": "bfb017ca-e124-4832-970c-560e6b849c91",
   "metadata": {},
   "source": [
    "### Quiz 8\n",
    "Write a program to make a copy of a text file “this. txt”"
   ]
  },
  {
   "cell_type": "code",
   "execution_count": 167,
   "id": "c7250ecc-9893-43a5-b0c2-9d273dfdb0b0",
   "metadata": {},
   "outputs": [
    {
     "name": "stdout",
     "output_type": "stream",
     "text": [
      " File copied successfully to 'this_copy.txt'.\n"
     ]
    }
   ],
   "source": [
    "# Original file and copy file names\n",
    "original_file = \"this.txt\"\n",
    "copy_file = \"this_copy.txt\"\n",
    "\n",
    "try:\n",
    "    # Open original file in read mode\n",
    "    with open(original_file, \"r\", encoding=\"utf-8\") as file:\n",
    "        content = file.read()  # Read the whole content\n",
    "\n",
    "    # Write the content into the new file\n",
    "    with open(copy_file, \"w\", encoding=\"utf-8\") as file:\n",
    "        file.write(content)\n",
    "\n",
    "    print(f\" File copied successfully to '{copy_file}'.\")\n",
    "\n",
    "except FileNotFoundError:\n",
    "    print(\" 'this.txt' file not found. Please check the file name and location.\")\n"
   ]
  },
  {
   "cell_type": "markdown",
   "id": "3634b443-0134-4eb3-9d58-33b7ebcffacc",
   "metadata": {},
   "source": [
    "### Quiz 9\n",
    "Write a program to find out whether a file is identical & matches the content of another file."
   ]
  },
  {
   "cell_type": "code",
   "execution_count": 168,
   "id": "f03ba45c-6a27-4f50-826f-fb41470efc1a",
   "metadata": {},
   "outputs": [
    {
     "name": "stdout",
     "output_type": "stream",
     "text": [
      "Both files are identical (same content).\n"
     ]
    }
   ],
   "source": [
    "# File names\n",
    "file1 = \"file1.txt\"\n",
    "file2 = \"file2.txt\"\n",
    "\n",
    "try:\n",
    "    # Read both files\n",
    "    with open(file1, \"r\", encoding=\"utf-8\") as f1:\n",
    "        content1 = f1.read()\n",
    "\n",
    "    with open(file2, \"r\", encoding=\"utf-8\") as f2:\n",
    "        content2 = f2.read()\n",
    "\n",
    "    # Compare contents\n",
    "    if content1 == content2:\n",
    "        print(\"Both files are identical (same content).\")\n",
    "    else:\n",
    "        print(\"The files are different (content does not match).\")\n",
    "\n",
    "except FileNotFoundError as e:\n",
    "    print(f\" File not found: {e.filename}\")\n"
   ]
  },
  {
   "cell_type": "markdown",
   "id": "7f85b5f3-13ad-4d97-81e1-5866bd0f46ae",
   "metadata": {},
   "source": [
    "### Quiz 10\n",
    "Write a program to wipe out the content of a file using python."
   ]
  },
  {
   "cell_type": "code",
   "execution_count": 170,
   "id": "f449b57c-9058-4659-9f06-2ee655490e68",
   "metadata": {},
   "outputs": [
    {
     "name": "stdout",
     "output_type": "stream",
     "text": [
      "All content from 'target.txt' has been wiped (emptied).\n"
     ]
    }
   ],
   "source": [
    "# File to be wiped\n",
    "file_name = \"target.txt\"  # Replace with your file name\n",
    "\n",
    "# Open the file in write mode to clear its contents\n",
    "with open(file_name, \"w\", encoding=\"utf-8\") as file:\n",
    "    pass  # Do nothing — this effectively clears the file\n",
    "\n",
    "print(f\"All content from '{file_name}' has been wiped (emptied).\")\n"
   ]
  },
  {
   "cell_type": "markdown",
   "id": "c8726e33-37bf-49e2-8cc8-43b48c4798ee",
   "metadata": {},
   "source": [
    "### Quiz 11\n",
    "Write a python program to rename a file to “renamed_by_ python.txt."
   ]
  },
  {
   "cell_type": "code",
   "execution_count": 172,
   "id": "0b7768bd-4a80-45ff-924c-032bbb67430b",
   "metadata": {},
   "outputs": [
    {
     "name": "stdout",
     "output_type": "stream",
     "text": [
      "An error occurred: [WinError 183] Cannot create a file when that file already exists: 'old_file.txt' -> 'renamed_by_python.txt'\n"
     ]
    }
   ],
   "source": [
    "import os\n",
    "\n",
    "# Old and new file names\n",
    "old_name = \"old_file.txt\"           # ← Replace with your actual file name\n",
    "new_name = \"renamed_by_python.txt\"\n",
    "\n",
    "try:\n",
    "    # Rename the file\n",
    "    os.rename(old_name, new_name)\n",
    "    print(f\"File renamed to '{new_name}' successfully.\")\n",
    "except FileNotFoundError:\n",
    "    print(f\"File '{old_name}' not found.\")\n",
    "except Exception as e:\n",
    "    print(f\"An error occurred: {e}\")\n"
   ]
  },
  {
   "cell_type": "markdown",
   "id": "0a24bfc8-1549-488d-99d2-7af6fed7df76",
   "metadata": {},
   "source": [
    "# CHAPTER 10 - OBJECT ORIENTED PROGRAMMING\n",
    "1. Create a class “Programmer” for storing information of few programmers \n",
    "working at Microsoft.\n",
    "2. Write a class “Calculator” capable of finding square, cube and square root of a \n",
    "number.\n",
    "3. Create a class with a class attribute a; create an object from it and set ‘a’\n",
    "directly using ‘object.a = 0’. Does this change the class attribute?\n",
    "4. Add a static method in problem 2, to greet the user with hello.\n",
    "5. Write a Class ‘Train’ which has methods to book a ticket, get status (no of seats) \n",
    "and get fare information of train running under Indian Railways.\n",
    "6. Can you change the self-parameter inside a class to something else (say\n",
    "“harry”). Try changing self to “slf” or “harry” and see the effects."
   ]
  },
  {
   "cell_type": "markdown",
   "id": "70bb150f-061b-4e42-b3c2-544770c93ba6",
   "metadata": {},
   "source": [
    "### Quiz 1\n",
    "Create a class “Programmer” for storing information of few programmers working at Microsoft."
   ]
  },
  {
   "cell_type": "code",
   "execution_count": 75,
   "id": "7aacd7e5-2473-4094-ab8d-a22b7ec36dd5",
   "metadata": {},
   "outputs": [
    {
     "name": "stdout",
     "output_type": "stream",
     "text": [
      "Name: Ali\n",
      "Language: Python\n",
      "Age: 21\n",
      "Company: Microsoft\n",
      "--------------------------\n",
      "Name: Bob\n",
      "Language: C++\n",
      "Age: 30\n",
      "Company: Microsoft\n",
      "--------------------------\n",
      "Name: Charlie\n",
      "Language: JavaScript\n",
      "Age: 25\n",
      "Company: Microsoft\n",
      "--------------------------\n"
     ]
    }
   ],
   "source": [
    "# Define the Programmer class\n",
    "class Programmer:\n",
    "    company = \"Microsoft\"  # Class variable shared by all instances\n",
    "\n",
    "    # Constructor to initialize programmer's details\n",
    "    def __init__(self, name, language, age):\n",
    "        self.name = name\n",
    "        self.language = language\n",
    "        self.age = age\n",
    "\n",
    "    # Method to display programmer details\n",
    "    def show_details(self):\n",
    "        print(f\"Name: {self.name}\")\n",
    "        print(f\"Language: {self.language}\")\n",
    "        print(f\"Age: {self.age}\")\n",
    "        print(f\"Company: {self.company}\")\n",
    "        print(\"--------------------------\")\n",
    "\n",
    "\n",
    "# Creating some programmer objects\n",
    "p1 = Programmer(\"Ali\", \"Python\", 21)\n",
    "p2 = Programmer(\"Bob\", \"C++\", 30)\n",
    "p3 = Programmer(\"Charlie\", \"JavaScript\", 25)\n",
    "\n",
    "# Display their details\n",
    "p1.show_details()\n",
    "p2.show_details()\n",
    "p3.show_details()\n"
   ]
  },
  {
   "cell_type": "markdown",
   "id": "cde981b8-eaa1-45bb-a404-eadcb47ef98f",
   "metadata": {},
   "source": [
    "### Quiz 2\n",
    "Write a class “Calculator” capable of finding square, cube and square root of a number."
   ]
  },
  {
   "cell_type": "code",
   "execution_count": 77,
   "id": "45d822d7-bc36-4841-8165-8c3eb338967f",
   "metadata": {},
   "outputs": [
    {
     "name": "stdin",
     "output_type": "stream",
     "text": [
      "Enter a number:  10\n"
     ]
    },
    {
     "name": "stdout",
     "output_type": "stream",
     "text": [
      "Square of 10.0 is: 100.0\n",
      "Cube of 10.0 is: 1000.0\n",
      "Square root of 10.0 is: 3.1622776601683795\n"
     ]
    }
   ],
   "source": [
    "import math  # For square root\n",
    "\n",
    "# Define the Calculator class\n",
    "class Calculator:\n",
    "\n",
    "    # Method to calculate square\n",
    "    def square(self, number):\n",
    "        return number ** 2\n",
    "\n",
    "    # Method to calculate cube\n",
    "    def cube(self, number):\n",
    "        return number ** 3\n",
    "\n",
    "    # Method to calculate square root\n",
    "    def square_root(self, number):\n",
    "        return math.sqrt(number)\n",
    "\n",
    "# Example usage\n",
    "calc = Calculator()\n",
    "\n",
    "num = float(input(\"Enter a number: \"))\n",
    "\n",
    "print(f\"Square of {num} is:\", calc.square(num))\n",
    "print(f\"Cube of {num} is:\", calc.cube(num))\n",
    "print(f\"Square root of {num} is:\", calc.square_root(num))\n"
   ]
  },
  {
   "cell_type": "markdown",
   "id": "748b65a8-165e-416f-8d58-0fc3490f2285",
   "metadata": {},
   "source": [
    "### Quiz 3\n",
    "Create a class with a class attribute a; create an object from it and set ‘a’ directly using ‘object.a = 0’. Does this change the class attribute?"
   ]
  },
  {
   "cell_type": "code",
   "execution_count": 78,
   "id": "143c6e21-e494-447f-a15c-5c076a927467",
   "metadata": {},
   "outputs": [
    {
     "name": "stdout",
     "output_type": "stream",
     "text": [
      "obj.a = 0\n",
      "MyClass.a = 10\n"
     ]
    }
   ],
   "source": [
    "# Define a class with a class attribute 'a'\n",
    "class MyClass:\n",
    "    a = 10  # Class attribute\n",
    "\n",
    "# Create an object from the class\n",
    "obj = MyClass()\n",
    "\n",
    "# Set 'a' directly using the object\n",
    "obj.a = 0\n",
    "\n",
    "# Check the values\n",
    "print(\"obj.a =\", obj.a)           # Access through object\n",
    "print(\"MyClass.a =\", MyClass.a)   # Access through class\n"
   ]
  },
  {
   "cell_type": "markdown",
   "id": "e20426e6-42b8-4ebe-a1b4-13bc36fb976f",
   "metadata": {},
   "source": [
    "### Quiz 4\n",
    "Add a static method in problem 2, to greet the user with hello."
   ]
  },
  {
   "cell_type": "code",
   "execution_count": 79,
   "id": "b017f954-a33f-4934-9ba3-066b53216431",
   "metadata": {},
   "outputs": [
    {
     "name": "stdout",
     "output_type": "stream",
     "text": [
      "Hello!\n"
     ]
    },
    {
     "name": "stdin",
     "output_type": "stream",
     "text": [
      "Enter a number:  25\n"
     ]
    },
    {
     "name": "stdout",
     "output_type": "stream",
     "text": [
      "Square of 25.0 is: 625.0\n",
      "Cube of 25.0 is: 15625.0\n",
      "Square root of 25.0 is: 5.0\n"
     ]
    }
   ],
   "source": [
    "import math\n",
    "\n",
    "class Calculator:\n",
    "\n",
    "    # Static method to greet the user\n",
    "    @staticmethod\n",
    "    def greet():\n",
    "        print(\"Hello!\")\n",
    "\n",
    "    # Method to calculate square\n",
    "    def square(self, number):\n",
    "        return number ** 2\n",
    "\n",
    "    # Method to calculate cube\n",
    "    def cube(self, number):\n",
    "        return number ** 3\n",
    "\n",
    "    # Method to calculate square root\n",
    "    def square_root(self, number):\n",
    "        return math.sqrt(number)\n",
    "\n",
    "# Example usage\n",
    "calc = Calculator()\n",
    "\n",
    "# Call the static method\n",
    "Calculator.greet()  # or calc.greet()\n",
    "\n",
    "# Continue with calculations\n",
    "num = float(input(\"Enter a number: \"))\n",
    "print(f\"Square of {num} is:\", calc.square(num))\n",
    "print(f\"Cube of {num} is:\", calc.cube(num))\n",
    "print(f\"Square root of {num} is:\", calc.square_root(num))\n"
   ]
  },
  {
   "cell_type": "markdown",
   "id": "a5c0db78-bef4-4f48-8432-253276c18882",
   "metadata": {},
   "source": [
    "### Quiz 5\n",
    "Write a Class ‘Train’ which has methods to book a ticket, get status (no of seats) and get fare information of train running under Indian Railways."
   ]
  },
  {
   "cell_type": "code",
   "execution_count": 80,
   "id": "56113f53-6b9d-4ffc-b6ca-d9144585ed5f",
   "metadata": {},
   "outputs": [
    {
     "name": "stdout",
     "output_type": "stream",
     "text": [
      "3 seat(s) available in Rajdhani Express\n",
      "The fare for Rajdhani Express is ₹1500\n",
      "Ticket booked successfully in Rajdhani Express. Seat number: 3\n",
      "Ticket booked successfully in Rajdhani Express. Seat number: 2\n",
      "Ticket booked successfully in Rajdhani Express. Seat number: 1\n",
      "Sorry, no seats available!\n",
      "0 seat(s) available in Rajdhani Express\n"
     ]
    }
   ],
   "source": [
    "class Train:\n",
    "    def __init__(self, name, fare, seats):\n",
    "        self.name = name\n",
    "        self.fare = fare\n",
    "        self.seats = seats\n",
    "\n",
    "    # Method to get fare information\n",
    "    def get_fare_info(self):\n",
    "        print(f\"The fare for {self.name} is ₹{self.fare}\")\n",
    "\n",
    "    # Method to get current seat status\n",
    "    def get_status(self):\n",
    "        print(f\"{self.seats} seat(s) available in {self.name}\")\n",
    "\n",
    "    # Method to book a ticket\n",
    "    def book_ticket(self):\n",
    "        if self.seats > 0:\n",
    "            print(f\"Ticket booked successfully in {self.name}. Seat number: {self.seats}\")\n",
    "            self.seats -= 1\n",
    "        else:\n",
    "            print(\"Sorry, no seats available!\")\n",
    "\n",
    "# Example usage\n",
    "train1 = Train(\"Rajdhani Express\", fare=1500, seats=3)\n",
    "\n",
    "# Check initial status and fare\n",
    "train1.get_status()\n",
    "train1.get_fare_info()\n",
    "\n",
    "# Book some tickets\n",
    "train1.book_ticket()\n",
    "train1.book_ticket()\n",
    "train1.book_ticket()\n",
    "train1.book_ticket()  # Should say no seats available\n",
    "\n",
    "# Check final seat status\n",
    "train1.get_status()\n"
   ]
  },
  {
   "cell_type": "markdown",
   "id": "4b2d2f12-8dd4-474e-8098-15210d2576d1",
   "metadata": {},
   "source": [
    "### Quiz 6\n",
    "Can you change the self-parameter inside a class to something else (say “harry”). Try changing self to “slf” or “harry” and see the effects."
   ]
  },
  {
   "cell_type": "code",
   "execution_count": 82,
   "id": "3268f504-df2d-4115-a473-9f7d164a2cae",
   "metadata": {},
   "outputs": [
    {
     "name": "stdout",
     "output_type": "stream",
     "text": [
      "Hello, my name is Ali and I am 21 years old.\n"
     ]
    }
   ],
   "source": [
    "class Person:\n",
    "    def __init__(slf, name, age):  # using 'slf' instead of 'self'\n",
    "        slf.name = name\n",
    "        slf.age = age\n",
    "\n",
    "    def greet(slf):\n",
    "        print(f\"Hello, my name is {slf.name} and I am {slf.age} years old.\")\n",
    "\n",
    "# Create an object\n",
    "p = Person(\"Ali\", 21)\n",
    "p.greet()\n"
   ]
  },
  {
   "cell_type": "markdown",
   "id": "8e5c6c0a-9409-4243-b4a2-e1a01d52dea4",
   "metadata": {},
   "source": [
    "# CHAPTER 11 - INHERITANCE & MORE ON OOPS\n",
    "1. Create a class (2-D vector) and use it to create another class representing a 3-D\n",
    "vector.\n",
    "2. Create a class ‘Pets’ from a class ‘Animals’ and further create a class ‘Dog’ from \n",
    "‘Pets’. Add a method ‘bark’ to class ‘Dog’.\n",
    "3. Create a class ‘Employee’ and add salary and increment properties to it.\n",
    "Write a method ‘salaryAfterIncrement’ method with a @property decorator with a setter \n",
    "which changes the value of increment based on the salary.\n",
    "4. Write a class ‘Complex’ to represent complex numbers, along with overloaded \n",
    "operators ‘+’ and ‘*’ which adds and multiplies them.\n",
    "5. Write a class vector representing a vector of n dimensions. Overload the + and * \n",
    "operator which calculates the sum and the dot(.) product of them.\n",
    "6. Write __str__() method to print the vector as follows:\n",
    " 7i + 8j +10k \n",
    "Assume vector of dimension 3 for this problem.\n",
    "7. Override the __len__() method on vector of problem 5 to display the dimension of the \n",
    "vector."
   ]
  },
  {
   "cell_type": "markdown",
   "id": "7e6d68ac-6be0-4bed-b623-df68ea7e5e1e",
   "metadata": {},
   "source": [
    "### Quiz 1\n",
    "Create a class (2-D vector) and use it to create another class representing a 3-D vector."
   ]
  },
  {
   "cell_type": "code",
   "execution_count": 83,
   "id": "0b5cce99-c1f7-4e26-beee-8302eb3cd16b",
   "metadata": {},
   "outputs": [
    {
     "name": "stdout",
     "output_type": "stream",
     "text": [
      "2D Vector: 3i + 4j\n",
      "3D Vector: 3i + 4j + 5k\n"
     ]
    }
   ],
   "source": [
    "# Class for 2-D Vector\n",
    "class Vector2D:\n",
    "    def __init__(self, x, y):\n",
    "        self.x = x\n",
    "        self.y = y\n",
    "\n",
    "    def display(self):\n",
    "        print(f\"2D Vector: {self.x}i + {self.y}j\")\n",
    "\n",
    "\n",
    "# Class for 3-D Vector that inherits from Vector2D\n",
    "class Vector3D(Vector2D):\n",
    "    def __init__(self, x, y, z):\n",
    "        super().__init__(x, y)  # Call parent constructor for x and y\n",
    "        self.z = z\n",
    "\n",
    "    def display(self):\n",
    "        print(f\"3D Vector: {self.x}i + {self.y}j + {self.z}k\")\n",
    "\n",
    "\n",
    "# Example usage:\n",
    "v2 = Vector2D(3, 4)\n",
    "v2.display()\n",
    "\n",
    "v3 = Vector3D(3, 4, 5)\n",
    "v3.display()\n"
   ]
  },
  {
   "cell_type": "markdown",
   "id": "279f0591-08c4-40e5-a655-5a9f16561397",
   "metadata": {},
   "source": [
    "### Quiz 2\n",
    "Create a class ‘Pets’ from a class ‘Animals’ and further create a class ‘Dog’ from ‘Pets’. Add a method ‘bark’ to class ‘Dog’."
   ]
  },
  {
   "cell_type": "code",
   "execution_count": 85,
   "id": "bc0f5c60-e107-469b-b9e7-b81f283b68ac",
   "metadata": {},
   "outputs": [
    {
     "name": "stdout",
     "output_type": "stream",
     "text": [
      "This is an animal.\n",
      "This is a pet.\n",
      "This is a dog.\n",
      "Woof! Woof!\n"
     ]
    }
   ],
   "source": [
    "# Base class\n",
    "class Animals:\n",
    "    def __init__(self):\n",
    "        print(\"This is an animal.\")\n",
    "\n",
    "# Intermediate class\n",
    "class Pets(Animals):\n",
    "    def __init__(self):\n",
    "        super().__init__()  # Call constructor of Animals\n",
    "        print(\"This is a pet.\")\n",
    "\n",
    "# Derived class\n",
    "class Dog(Pets):\n",
    "    def __init__(self):\n",
    "        super().__init__()  # Call constructor of Pets\n",
    "        print(\"This is a dog.\")\n",
    "\n",
    "    def bark(self):\n",
    "        print(\"Woof! Woof!\")\n",
    "\n",
    "# Example usage\n",
    "d = Dog()\n",
    "d.bark()\n"
   ]
  },
  {
   "cell_type": "markdown",
   "id": "23d38115-5e2b-42dd-b9bb-b82d1f32d0a6",
   "metadata": {},
   "source": [
    "### Quiz 3\n",
    "Create a class ‘Employee’ and add salary and increment properties to it. Write a method ‘salaryAfterIncrement’ method with a @property decorator with a setter which changes the value of increment based on the salary."
   ]
  },
  {
   "cell_type": "code",
   "execution_count": 86,
   "id": "0d50ac5a-c398-4b4c-9d13-bd7417556f6f",
   "metadata": {},
   "outputs": [
    {
     "name": "stdout",
     "output_type": "stream",
     "text": [
      "Original Salary: 50000\n",
      "Salary After Increment: 55000.00000000001\n",
      "Updated Increment Factor: 1.2\n",
      "New Salary After Increment: 60000.0\n"
     ]
    }
   ],
   "source": [
    "class Employee:\n",
    "    def __init__(self, salary):\n",
    "        self._salary = salary\n",
    "        self._increment = 1.10  # Default 10% increment\n",
    "\n",
    "    # Property to get incremented salary\n",
    "    @property\n",
    "    def salaryAfterIncrement(self):\n",
    "        return self._salary * self._increment\n",
    "\n",
    "    # Setter to change increment based on new salary logic\n",
    "    @salaryAfterIncrement.setter\n",
    "    def salaryAfterIncrement(self, new_salary):\n",
    "        # Adjust increment factor based on new salary\n",
    "        self._increment = new_salary / self._salary\n",
    "\n",
    "    # Optional: view current increment factor\n",
    "    @property\n",
    "    def increment(self):\n",
    "        return self._increment\n",
    "\n",
    "\n",
    "# Example usage\n",
    "emp = Employee(50000)\n",
    "\n",
    "print(\"Original Salary:\", emp._salary)\n",
    "print(\"Salary After Increment:\", emp.salaryAfterIncrement)\n",
    "\n",
    "# Now let's say company wants to set new salary\n",
    "emp.salaryAfterIncrement = 60000  # This adjusts the increment factor\n",
    "\n",
    "print(\"Updated Increment Factor:\", emp.increment)\n",
    "print(\"New Salary After Increment:\", emp.salaryAfterIncrement)\n"
   ]
  },
  {
   "cell_type": "markdown",
   "id": "49017219-1012-4f39-9c8d-e0e7b5b9d818",
   "metadata": {},
   "source": [
    "### Quiz 4\n",
    "Write a class ‘Complex’ to represent complex numbers, along with overloaded operators ‘+’ and ‘*’ which adds and multiplies them"
   ]
  },
  {
   "cell_type": "code",
   "execution_count": 87,
   "id": "eecd4dbb-32ac-445b-9767-128ac94eca50",
   "metadata": {},
   "outputs": [
    {
     "name": "stdout",
     "output_type": "stream",
     "text": [
      "Sum: 6 + 8i\n",
      "Product: -7 + 22i\n"
     ]
    }
   ],
   "source": [
    "class Complex:\n",
    "    def __init__(self, real, imag):\n",
    "        self.real = real\n",
    "        self.imag = imag\n",
    "\n",
    "    # Overload the + operator\n",
    "    def __add__(self, other):\n",
    "        return Complex(self.real + other.real, self.imag + other.imag)\n",
    "\n",
    "    # Overload the * operator\n",
    "    def __mul__(self, other):\n",
    "        real_part = self.real * other.real - self.imag * other.imag\n",
    "        imag_part = self.real * other.imag + self.imag * other.real\n",
    "        return Complex(real_part, imag_part)\n",
    "\n",
    "    # String representation for printing\n",
    "    def __str__(self):\n",
    "        return f\"{self.real} + {self.imag}i\"\n",
    "\n",
    "# Example usage\n",
    "c1 = Complex(2, 3)    # 2 + 3i\n",
    "c2 = Complex(4, 5)    # 4 + 5i\n",
    "\n",
    "sum_result = c1 + c2\n",
    "product_result = c1 * c2\n",
    "\n",
    "print(\"Sum:\", sum_result)         # (2+4, 3+5) = 6 + 8i\n",
    "print(\"Product:\", product_result) # (2*4 - 3*5, 2*5 + 3*4) = -7 + 22i\n"
   ]
  },
  {
   "cell_type": "markdown",
   "id": "6e243a6c-cebe-4d24-bc20-587d182d2cb3",
   "metadata": {},
   "source": [
    "### Quiz 5\n",
    "Write a class vector representing a vector of n dimensions. Overload the + and * operator which calculates the sum and the dot(.) product of them"
   ]
  },
  {
   "cell_type": "code",
   "execution_count": 88,
   "id": "5dd27eb4-2016-4d2d-882e-31a790a0d5a4",
   "metadata": {},
   "outputs": [
    {
     "ename": "TypeError",
     "evalue": "'int' object is not callable",
     "output_type": "error",
     "traceback": [
      "\u001b[1;31m---------------------------------------------------------------------------\u001b[0m",
      "\u001b[1;31mTypeError\u001b[0m                                 Traceback (most recent call last)",
      "Cell \u001b[1;32mIn[88], line 27\u001b[0m\n\u001b[0;32m     24\u001b[0m v2 \u001b[38;5;241m=\u001b[39m Vector([\u001b[38;5;241m4\u001b[39m, \u001b[38;5;241m5\u001b[39m, \u001b[38;5;241m6\u001b[39m])\n\u001b[0;32m     26\u001b[0m sum_vector \u001b[38;5;241m=\u001b[39m v1 \u001b[38;5;241m+\u001b[39m v2          \u001b[38;5;66;03m# Vector addition\u001b[39;00m\n\u001b[1;32m---> 27\u001b[0m dot_product \u001b[38;5;241m=\u001b[39m \u001b[43mv1\u001b[49m\u001b[43m \u001b[49m\u001b[38;5;241;43m*\u001b[39;49m\u001b[43m \u001b[49m\u001b[43mv2\u001b[49m         \u001b[38;5;66;03m# Dot product\u001b[39;00m\n\u001b[0;32m     29\u001b[0m \u001b[38;5;28mprint\u001b[39m(\u001b[38;5;124m\"\u001b[39m\u001b[38;5;124mSum:\u001b[39m\u001b[38;5;124m\"\u001b[39m, sum_vector)     \u001b[38;5;66;03m# Vector([5, 7, 9])\u001b[39;00m\n\u001b[0;32m     30\u001b[0m \u001b[38;5;28mprint\u001b[39m(\u001b[38;5;124m\"\u001b[39m\u001b[38;5;124mDot Product:\u001b[39m\u001b[38;5;124m\"\u001b[39m, dot_product)  \u001b[38;5;66;03m# 1*4 + 2*5 + 3*6 = 32\u001b[39;00m\n",
      "Cell \u001b[1;32mIn[88], line 16\u001b[0m, in \u001b[0;36mVector.__mul__\u001b[1;34m(self, other)\u001b[0m\n\u001b[0;32m     14\u001b[0m \u001b[38;5;28;01mif\u001b[39;00m \u001b[38;5;28mlen\u001b[39m(\u001b[38;5;28mself\u001b[39m\u001b[38;5;241m.\u001b[39mcomponents) \u001b[38;5;241m!=\u001b[39m \u001b[38;5;28mlen\u001b[39m(other\u001b[38;5;241m.\u001b[39mcomponents):\n\u001b[0;32m     15\u001b[0m     \u001b[38;5;28;01mraise\u001b[39;00m \u001b[38;5;167;01mValueError\u001b[39;00m(\u001b[38;5;124m\"\u001b[39m\u001b[38;5;124mVectors must be of same dimension for dot product.\u001b[39m\u001b[38;5;124m\"\u001b[39m)\n\u001b[1;32m---> 16\u001b[0m \u001b[38;5;28;01mreturn\u001b[39;00m \u001b[38;5;28;43msum\u001b[39;49m\u001b[43m(\u001b[49m\u001b[43ma\u001b[49m\u001b[43m \u001b[49m\u001b[38;5;241;43m*\u001b[39;49m\u001b[43m \u001b[49m\u001b[43mb\u001b[49m\u001b[43m \u001b[49m\u001b[38;5;28;43;01mfor\u001b[39;49;00m\u001b[43m \u001b[49m\u001b[43ma\u001b[49m\u001b[43m,\u001b[49m\u001b[43m \u001b[49m\u001b[43mb\u001b[49m\u001b[43m \u001b[49m\u001b[38;5;129;43;01min\u001b[39;49;00m\u001b[43m \u001b[49m\u001b[38;5;28;43mzip\u001b[39;49m\u001b[43m(\u001b[49m\u001b[38;5;28;43mself\u001b[39;49m\u001b[38;5;241;43m.\u001b[39;49m\u001b[43mcomponents\u001b[49m\u001b[43m,\u001b[49m\u001b[43m \u001b[49m\u001b[43mother\u001b[49m\u001b[38;5;241;43m.\u001b[39;49m\u001b[43mcomponents\u001b[49m\u001b[43m)\u001b[49m\u001b[43m)\u001b[49m\n",
      "\u001b[1;31mTypeError\u001b[0m: 'int' object is not callable"
     ]
    }
   ],
   "source": [
    "class Vector:\n",
    "    def __init__(self, components):\n",
    "        self.components = components\n",
    "\n",
    "    # Overload the + operator for vector addition\n",
    "    def __add__(self, other):\n",
    "        if len(self.components) != len(other.components):\n",
    "            raise ValueError(\"Vectors must be of same dimension for addition.\")\n",
    "        result = [a + b for a, b in zip(self.components, other.components)]\n",
    "        return Vector(result)\n",
    "\n",
    "    # Overload the * operator for dot product\n",
    "    def __mul__(self, other):\n",
    "        if len(self.components) != len(other.components):\n",
    "            raise ValueError(\"Vectors must be of same dimension for dot product.\")\n",
    "        return sum(a * b for a, b in zip(self.components, other.components))\n",
    "\n",
    "    # String representation for printing\n",
    "    def __str__(self):\n",
    "        return f\"Vector({self.components})\"\n",
    "\n",
    "# Example usage\n",
    "v1 = Vector([1, 2, 3])\n",
    "v2 = Vector([4, 5, 6])\n",
    "\n",
    "sum_vector = v1 + v2          # Vector addition\n",
    "dot_product = v1 * v2         # Dot product\n",
    "\n",
    "print(\"Sum:\", sum_vector)     # Vector([5, 7, 9])\n",
    "print(\"Dot Product:\", dot_product)  # 1*4 + 2*5 + 3*6 = 32\n"
   ]
  },
  {
   "cell_type": "markdown",
   "id": "8b4bb737-0db4-488b-a9a1-42669516d611",
   "metadata": {},
   "source": [
    "### Quiz 6\n",
    "Write str() method to print the vector as follows: 7i + 8j +10k Assume vector of dimension 3 for this problem."
   ]
  },
  {
   "cell_type": "code",
   "execution_count": 89,
   "id": "3fbdfed1-d7ef-4488-a54f-90533db2ac10",
   "metadata": {},
   "outputs": [
    {
     "name": "stdout",
     "output_type": "stream",
     "text": [
      "7i + 8j + 10k\n"
     ]
    }
   ],
   "source": [
    "class Vector:\n",
    "    def __init__(self, components):\n",
    "        self.components = components\n",
    "\n",
    "    def __str__(self):\n",
    "        # Assuming the vector is always 3D\n",
    "        return f\"{self.components[0]}i + {self.components[1]}j + {self.components[2]}k\"\n",
    "\n",
    "# Example usage\n",
    "v = Vector([7, 8, 10])\n",
    "print(v)  # Output: 7i + 8j + 10k\n"
   ]
  },
  {
   "cell_type": "markdown",
   "id": "f3f4af7e-8f97-40e5-a333-7a4586837616",
   "metadata": {},
   "source": [
    "### Quiz 7\n",
    "Override the len() method on vector of problem 5 to display the dimension of the vector."
   ]
  },
  {
   "cell_type": "code",
   "execution_count": 90,
   "id": "fbbb894f-17fd-4725-91ae-e9a6d1c24909",
   "metadata": {},
   "outputs": [
    {
     "name": "stdout",
     "output_type": "stream",
     "text": [
      "Vector: 7i + 8j + 10k\n",
      "Dimension of vector: 3\n"
     ]
    }
   ],
   "source": [
    "class Vector:\n",
    "    def __init__(self, components):\n",
    "        self.components = components\n",
    "\n",
    "    # Override __str__ to print in 3D format (i + j + k)\n",
    "    def __str__(self):\n",
    "        return f\"{self.components[0]}i + {self.components[1]}j + {self.components[2]}k\"\n",
    "\n",
    "    # Override len() to return the dimension of the vector\n",
    "    def __len__(self):\n",
    "        return len(self.components)\n",
    "\n",
    "# Example usage\n",
    "v = Vector([7, 8, 10])\n",
    "print(\"Vector:\", v)\n",
    "print(\"Dimension of vector:\", len(v))  # Calls __len__()\n"
   ]
  },
  {
   "cell_type": "markdown",
   "id": "4255ba4f-d189-4bd3-b3b8-d595ccf2431f",
   "metadata": {},
   "source": [
    "# CHAPTER 12 – ADVANCED PYTHON 1\n",
    "1. Write a program to open three files 1.txt, 2.txt and 3.txt if any these files are not \n",
    "present, a message without exiting the program must be printed prompting the same.\n",
    "2. Write a program to print third, fifth and seventh element from a list using enumerate \n",
    "function.\n",
    "3. Write a list comprehension to print a list which contains the multiplication table of a \n",
    "user entered number.\n",
    "4. Write a program to display a/b where a and b are integers. If b=0, display infinite by \n",
    "handling the ‘ZeroDivisionError’.\n",
    "5. Store the multiplication tables generated in problem 3 in a file named Tables.txt."
   ]
  },
  {
   "cell_type": "markdown",
   "id": "fbbc996f-15b5-43de-a680-60013d8ae8c4",
   "metadata": {},
   "source": [
    "### Quiz 1\n",
    "Write a program to open three files 1.txt, 2.txt and 3.txt if any these files are not present, a message without exiting the program must be printed prompting the same."
   ]
  },
  {
   "cell_type": "code",
   "execution_count": 92,
   "id": "6bf375c7-5c56-4071-84dc-c0ace9f1f88c",
   "metadata": {},
   "outputs": [
    {
     "name": "stdout",
     "output_type": "stream",
     "text": [
      "  File '1.txt' not found. Please check if it exists.\n",
      "\n",
      "  File '2.txt' not found. Please check if it exists.\n",
      "\n",
      "  File '3.txt' not found. Please check if it exists.\n",
      "\n"
     ]
    }
   ],
   "source": [
    "# List of file names to open\n",
    "filenames = [\"1.txt\", \"2.txt\", \"3.txt\"]\n",
    "\n",
    "# Loop through each file\n",
    "for filename in filenames:\n",
    "    try:\n",
    "        with open(filename, 'r') as file:\n",
    "            content = file.read()\n",
    "            print(f\"Contents of {filename}:\\n{content}\\n\")\n",
    "    except FileNotFoundError:\n",
    "        print(f\"  File '{filename}' not found. Please check if it exists.\\n\")\n"
   ]
  },
  {
   "cell_type": "markdown",
   "id": "ab053ee8-c20c-4d60-af34-84232771f6b5",
   "metadata": {},
   "source": [
    "### Quiz 2\n",
    "Write a program to print third, fifth and seventh element from a list using enumerate function."
   ]
  },
  {
   "cell_type": "code",
   "execution_count": 93,
   "id": "00fb5a5b-b79f-4bc0-82d4-ee341cdf1373",
   "metadata": {},
   "outputs": [
    {
     "name": "stdout",
     "output_type": "stream",
     "text": [
      "Element at position 3: c\n",
      "Element at position 5: e\n",
      "Element at position 7: g\n"
     ]
    }
   ],
   "source": [
    "# Sample list\n",
    "items = ['a', 'b', 'c', 'd', 'e', 'f', 'g', 'h', 'i']\n",
    "\n",
    "# Use enumerate to loop through with index\n",
    "for index, item in enumerate(items):\n",
    "    if index in [2, 4, 6]:  # 0-based indexing: 3rd is index 2, etc.\n",
    "        print(f\"Element at position {index + 1}: {item}\")\n"
   ]
  },
  {
   "cell_type": "markdown",
   "id": "60c007c9-d036-40e1-9319-f0cc8cf649f0",
   "metadata": {},
   "source": [
    "### Quiz 3\n",
    "Write a list comprehension to print a list which contains the multiplication table of a user entered number."
   ]
  },
  {
   "cell_type": "code",
   "execution_count": 94,
   "id": "48b69559-3048-496e-8fca-8b4cce803400",
   "metadata": {},
   "outputs": [
    {
     "name": "stdin",
     "output_type": "stream",
     "text": [
      "Enter a number to generate its multiplication table:  2\n"
     ]
    },
    {
     "name": "stdout",
     "output_type": "stream",
     "text": [
      "Multiplication table of 2: [2, 4, 6, 8, 10, 12, 14, 16, 18, 20]\n"
     ]
    }
   ],
   "source": [
    "# Take input from user\n",
    "num = int(input(\"Enter a number to generate its multiplication table: \"))\n",
    "\n",
    "# List comprehension to generate the table from 1 to 10\n",
    "table = [num * i for i in range(1, 11)]\n",
    "\n",
    "# Print the result\n",
    "print(f\"Multiplication table of {num}:\", table)\n"
   ]
  },
  {
   "cell_type": "markdown",
   "id": "45c6553e-5f3f-449b-bafe-705dac68db64",
   "metadata": {},
   "source": [
    "### Quiz 4\n",
    "Write a program to display a/b where a and b are integers. If b=0, display infinite by handling the ‘ZeroDivisionError’."
   ]
  },
  {
   "cell_type": "code",
   "execution_count": 95,
   "id": "4ca59e5c-1f13-4546-9ec5-c835668ff90d",
   "metadata": {},
   "outputs": [
    {
     "name": "stdin",
     "output_type": "stream",
     "text": [
      "Enter numerator (a):  10\n",
      "Enter denominator (b):  4\n"
     ]
    },
    {
     "name": "stdout",
     "output_type": "stream",
     "text": [
      "Result of a / b is: 2.5\n"
     ]
    }
   ],
   "source": [
    "# Take input from the user\n",
    "a = int(input(\"Enter numerator (a): \"))\n",
    "b = int(input(\"Enter denominator (b): \"))\n",
    "\n",
    "try:\n",
    "    result = a / b\n",
    "    print(f\"Result of a / b is: {result}\")\n",
    "except ZeroDivisionError:\n",
    "    print(\"Result of a / b is: infinite (division by zero)\")\n"
   ]
  },
  {
   "cell_type": "markdown",
   "id": "36c1eb7a-4c70-4ac8-8678-68c345aff2e0",
   "metadata": {},
   "source": [
    "### Quiz 5\n",
    "Store the multiplication tables generated in problem 3 in a file named Tables.txt."
   ]
  },
  {
   "cell_type": "code",
   "execution_count": 96,
   "id": "13582fa6-0d0a-497c-a335-c2275d7482fe",
   "metadata": {},
   "outputs": [
    {
     "name": "stdin",
     "output_type": "stream",
     "text": [
      "Enter a number to generate its multiplication table:  4\n"
     ]
    },
    {
     "name": "stdout",
     "output_type": "stream",
     "text": [
      "Multiplication table saved to Tables.txt\n"
     ]
    }
   ],
   "source": [
    "# Take input from user\n",
    "num = int(input(\"Enter a number to generate its multiplication table: \"))\n",
    "\n",
    "# Generate multiplication table from 1 to 10\n",
    "table_lines = [f\"{num} x {i} = {num * i}\" for i in range(1, 11)]\n",
    "\n",
    "# Write the table to a file named Tables.txt\n",
    "with open(\"Tables.txt\", \"w\") as file:\n",
    "    for line in table_lines:\n",
    "        file.write(line + \"\\n\")\n",
    "\n",
    "print(\"Multiplication table saved to Tables.txt\")\n"
   ]
  },
  {
   "cell_type": "code",
   "execution_count": 101,
   "id": "1ef9b740-1ef4-4dd9-bdfa-e34bd1a8c026",
   "metadata": {},
   "outputs": [],
   "source": [
    "with open(\"poems.txt\", \"w\") as file:\n",
    "    file.write(\"\")"
   ]
  },
  {
   "cell_type": "code",
   "execution_count": null,
   "id": "cab97704-a2fa-4b5a-9530-cbc427fd8622",
   "metadata": {},
   "outputs": [],
   "source": []
  }
 ],
 "metadata": {
  "kernelspec": {
   "display_name": "Python 3 (ipykernel)",
   "language": "python",
   "name": "python3"
  },
  "language_info": {
   "codemirror_mode": {
    "name": "ipython",
    "version": 3
   },
   "file_extension": ".py",
   "mimetype": "text/x-python",
   "name": "python",
   "nbconvert_exporter": "python",
   "pygments_lexer": "ipython3",
   "version": "3.13.0"
  }
 },
 "nbformat": 4,
 "nbformat_minor": 5
}
